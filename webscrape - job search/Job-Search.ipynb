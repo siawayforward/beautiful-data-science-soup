{
 "cells": [
  {
   "cell_type": "code",
   "execution_count": 225,
   "metadata": {},
   "outputs": [],
   "source": [
    "#modules\n",
    "#!pip install requests -q\n",
    "import itertools\n",
    "import requests\n",
    "from bs4 import BeautifulSoup as bs\n",
    "from datetime import datetime, timedelta"
   ]
  },
  {
   "cell_type": "code",
   "execution_count": 266,
   "metadata": {},
   "outputs": [],
   "source": [
    "#Create dictionaries of search parameters\n",
    "titleDict = {\n",
    "    0: 'Intern', 1: 'Data', 2: 'BI', 3: 'Developer', 4: 'ML', 5: 'Machine-Learning', 6: 'Applied', 7: 'Modeling', \n",
    "    8: 'Quantitative', 9: 'Analyst',  10: 'Decision', 11: 'Scientist', 12: 'Business',  13: 'Intelligence', \n",
    "    14: 'Artificial', 15: 'AI', 16: 'Junior', 17: 'Jr', 18: 'Engineer', 19: 'Big', 20: 'Software'\n",
    "}\n",
    "\n",
    "locationDict = {\n",
    "    0: 'Pittsburgh',  1: 'Nashville',  2: 'Charlotte',  3: 'California',  4: 'Austin',  5: 'Minneapolis',\n",
    "    6: 'San-Antonio',  7: 'Massachusetts'\n",
    "}\n",
    "\n",
    "skills = [\n",
    "    'Python', 'PySpark', 'Excel', 'EVIEWS', 'STATA', '.NET', 'Agile', 'Git', ''\n",
    "]"
   ]
  },
  {
   "cell_type": "code",
   "execution_count": 264,
   "metadata": {},
   "outputs": [],
   "source": [
    "#class for each job posting\n",
    "class job_posting:\n",
    "    #attributes\n",
    "    \n",
    "    def __init__(self): pass\n",
    "    \n",
    "    def __init__(self, title, company, location, date, skills, visa, relo):\n",
    "        self.job_title = title\n",
    "        self.company_name = company\n",
    "        self.job_location = location\n",
    "        self.posted_date = date\n",
    "        self.tech_skills = get_skills(skills)\n",
    "        self.immigration_assistance = visa\n",
    "        self.relocation_assistance = relo\n",
    "        \n",
    "    def get_skills_requested(self, description):\n",
    "        skills = []\n",
    "        #parse through description to extract skills if they are in your dictionary and return list\n",
    "        return skills"
   ]
  },
  {
   "cell_type": "code",
   "execution_count": 228,
   "metadata": {},
   "outputs": [],
   "source": [
    "#job name combinations from dictionary in search results\n",
    "def get_job_titles(i):\n",
    "    values = list(itertools.product(titleDict.values(), repeat=i))\n",
    "    titles = []\n",
    "    for words in values: \n",
    "        dups = [words.count(x) for x in list(words)] #duplicates in set of three\n",
    "        if sum(dups) == i and sum(list(map(len, list(words)))) > i*2  and set(words) not in titles:\n",
    "            titles.append(set(words))\n",
    "    titles = ['-'.join(list(words)) for words in titles]\n",
    "    print(i, 'values combination', 'all combinations:', len(values), 'filtered values:', len(titles))\n",
    "    return titles"
   ]
  },
  {
   "cell_type": "code",
   "execution_count": 244,
   "metadata": {},
   "outputs": [
    {
     "name": "stdout",
     "output_type": "stream",
     "text": [
      "2 values combination all combinations: 441 filtered values: 204\n",
      "3 values combination all combinations: 9261 filtered values: 1326\n"
     ]
    }
   ],
   "source": [
    "titles = get_job_titles(2) + get_job_titles(3)"
   ]
  },
  {
   "cell_type": "code",
   "execution_count": 230,
   "metadata": {},
   "outputs": [],
   "source": [
    "#method to get search results for positions and locations in the dictionaries defined\n",
    "#Posted in the last 24 hours and <= 10 miles from job location\n",
    "def get_results_by_location(title, location):\n",
    "    links = []\n",
    "    URL = 'https://www.linkedin.com/jobs/search?keywords='+ title +'&location='+ location +'&f_TP=1&distance=10'\n",
    "    page = requests.get(URL)\n",
    "    soup = bs(page.content, 'lxml')\n",
    "    refs = soup.find_all('a', class_='result-card__full-card-link')\n",
    "    links = [ref.get('href') for ref in refs if ref.get('href') not in links]\n",
    "    return links"
   ]
  },
  {
   "cell_type": "code",
   "execution_count": 260,
   "metadata": {},
   "outputs": [],
   "source": [
    "#method to get all results for desired locations\n",
    "def get_all_location_results(job_titles, location): \n",
    "    start = 0\n",
    "    cut_off = 20\n",
    "    end = len(job_titles)\n",
    "    links = []\n",
    "    while start <= end and cut_off <= end: \n",
    "        for title in job_titles[start: cut_off]:\n",
    "            links += get_results_by_location(title, location)    \n",
    "            start = cut_off + 1\n",
    "            cut_off += 20\n",
    "            if cut_off > end:\n",
    "                for title in job_titles[start: end]:\n",
    "                    links += get_results_by_location(title, location)    \n",
    "                break\n",
    "    print(location+':', len(links), 'results')\n",
    "    return links"
   ]
  },
  {
   "cell_type": "code",
   "execution_count": 262,
   "metadata": {},
   "outputs": [],
   "source": [
    "def get_posting_links():    \n",
    "    stime = datetime.now()\n",
    "    links = []\n",
    "    print(len(titles), 'search terms: \\n-----------------------------\\n')\n",
    "    for location in locationDict.values():\n",
    "        links += get_all_location_results(titles, location)  \n",
    "    etime = datetime.now()\n",
    "    mins = (etime-stime)\n",
    "    print('\\nAll results:', len(links))\n",
    "    print('total time:', round(mins.seconds/60), 'mins:' + str(minutes.seconds%60), 'secs')"
   ]
  },
  {
   "cell_type": "code",
   "execution_count": 263,
   "metadata": {},
   "outputs": [
    {
     "data": {
      "text/plain": [
       "'https://www.linkedin.com/jobs/view/atg-developer-at-caspex-1831583854?refId=c1da6d94-3cea-49ce-9110-906cc47e3c55&position=13&pageNum=0&trk=public_jobs_job-result-card_result-card_full-click'"
      ]
     },
     "execution_count": 263,
     "metadata": {},
     "output_type": "execute_result"
    }
   ],
   "source": [
    "links[109]"
   ]
  },
  {
   "cell_type": "code",
   "execution_count": null,
   "metadata": {},
   "outputs": [],
   "source": [
    "for link in links:\n",
    "    page = requests.get(link)\n",
    "    soup = bs(page.content, 'lxml')"
   ]
  }
 ],
 "metadata": {
  "kernelspec": {
   "display_name": "Python 3",
   "language": "python",
   "name": "python3"
  },
  "language_info": {
   "codemirror_mode": {
    "name": "ipython",
    "version": 3
   },
   "file_extension": ".py",
   "mimetype": "text/x-python",
   "name": "python",
   "nbconvert_exporter": "python",
   "pygments_lexer": "ipython3",
   "version": "3.7.6"
  }
 },
 "nbformat": 4,
 "nbformat_minor": 4
}
