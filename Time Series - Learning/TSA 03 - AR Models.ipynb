{
 "cells": [
  {
   "cell_type": "markdown",
   "metadata": {},
   "source": [
    "### Modeling using Stats Models packages"
   ]
  },
  {
   "cell_type": "code",
   "execution_count": 1,
   "metadata": {},
   "outputs": [],
   "source": [
    "#Import modules and packages\n",
    "import pandas as pd\n",
    "import numpy as np\n",
    "import matplotlib.pyplot as plt\n",
    "import seaborn as sns\n",
    "import statsmodels.graphics.tsaplots as sgt\n",
    "import statsmodels.tsa.stattools as sts\n",
    "from statsmodels.tsa.arima_model import ARMA\n",
    "from scipy.stats.distributions import chi2\n",
    "sns.set()"
   ]
  },
  {
   "cell_type": "code",
   "execution_count": 2,
   "metadata": {},
   "outputs": [],
   "source": [
    "#Import data files and process. We will be using FTSE\n",
    "data_raw = pd.read_csv('Index2018.csv')\n",
    "data = data_raw.copy()\n",
    "data.date = pd.to_datetime(data.date, dayfirst=True)\n",
    "data.set_index('date', inplace=True)\n",
    "data = data.asfreq('b')\n",
    "data = data.fillna(method='ffill')"
   ]
  },
  {
   "cell_type": "code",
   "execution_count": 3,
   "metadata": {},
   "outputs": [],
   "source": [
    "#create lone needed column, delete others\n",
    "data['market_value'] = data.ftse\n",
    "del data['ftse'], data['spx'], data['dax'], data['nikkei']\n",
    "\n",
    "#train and test split\n",
    "size = int(len(data)*0.8)\n",
    "train, test = data[:size], data[size:]"
   ]
  },
  {
   "cell_type": "code",
   "execution_count": 4,
   "metadata": {},
   "outputs": [
    {
     "data": {
      "image/png": "[encoded data removed]",
      "text/plain": [
       "<Figure size 432x288 with 1 Axes>"
      ]
     },
     "metadata": {
      "needs_background": "light"
     },
     "output_type": "display_data"
    }
   ],
   "source": [
    "#correlograms\n",
    "sgt.plot_acf(data.market_value, lags=40, zero=False)\n",
    "plt.title('FTSE ACF Plot')\n",
    "plt.show()"
   ]
  },
  {
   "cell_type": "code",
   "execution_count": 5,
   "metadata": {},
   "outputs": [
    {
     "data": {
      "image/png": "[encoded data removed]",
      "text/plain": [
       "<Figure size 432x288 with 1 Axes>"
      ]
     },
     "metadata": {
      "needs_background": "light"
     },
     "output_type": "display_data"
    }
   ],
   "source": [
    "sgt.plot_pacf(data.market_value, lags = 40, zero=False, method='ols')\n",
    "plt.title('FTSE PACF Plot')\n",
    "plt.show()"
   ]
  },
  {
   "cell_type": "markdown",
   "metadata": {},
   "source": [
    "### Objective:\n",
    "Use statsmodels to fit AR models. Also we want to make sure we have the right number of AR components in a model we use. If we have too many, we may be **overfitting**. To make sure we are using the best possible model, we \n",
    "- create/ fit/ review a bunch of models\n",
    "- we want the model with the highest Log likelihood and lowest information criteria (AIC and BIC) so\n",
    "- We use the log likelihood ratio test to determine best fit model\n",
    "  > Here you keep adding AR components and running the comparison test. When you reach a point where the higher order model coefficient is not significant AND LLR test p-value is also not significant, you can stop  \n",
    "  > Now use the last model where p-values were significant and compare to the AR(1) to see if this still holds (note: degrees of freedom are the difference of lags between the two models. eg. if comparing AR(1) and AR(7) models, DF = 7-1 = 6\n",
    "\n",
    "\n",
    "**AR1 model**"
   ]
  },
  {
   "cell_type": "code",
   "execution_count": 6,
   "metadata": {},
   "outputs": [],
   "source": [
    "model_ar = ARMA(train.market_value, order=(1,0))\n",
    "#order 1 = AR(1) model, 0 => no error terms in AR(1) model"
   ]
  },
  {
   "cell_type": "code",
   "execution_count": 7,
   "metadata": {},
   "outputs": [
    {
     "data": {
      "text/html": [
       "<table class=\"simpletable\">\n",
       "<caption>ARMA Model Results</caption>\n",
       "<tr>\n",
       "  <th>Dep. Variable:</th>   <td>market_value</td>   <th>  No. Observations:  </th>    <td>5021</td>   \n",
       "</tr>\n",
       "<tr>\n",
       "  <th>Model:</th>            <td>ARMA(1, 0)</td>    <th>  Log Likelihood     </th> <td>-27622.601</td>\n",
       "</tr>\n",
       "<tr>\n",
       "  <th>Method:</th>             <td>css-mle</td>     <th>  S.D. of innovations</th>   <td>59.258</td>  \n",
       "</tr>\n",
       "<tr>\n",
       "  <th>Date:</th>          <td>Wed, 01 Apr 2020</td> <th>  AIC                </th>  <td>55251.202</td>\n",
       "</tr>\n",
       "<tr>\n",
       "  <th>Time:</th>              <td>11:55:04</td>     <th>  BIC                </th>  <td>55270.766</td>\n",
       "</tr>\n",
       "<tr>\n",
       "  <th>Sample:</th>           <td>01-07-1994</td>    <th>  HQIC               </th>  <td>55258.058</td>\n",
       "</tr>\n",
       "<tr>\n",
       "  <th></th>                 <td>- 04-05-2013</td>   <th>                     </th>      <td> </td>    \n",
       "</tr>\n",
       "</table>\n",
       "<table class=\"simpletable\">\n",
       "<tr>\n",
       "           <td></td>             <th>coef</th>     <th>std err</th>      <th>z</th>      <th>P>|z|</th>  <th>[0.025</th>    <th>0.975]</th>  \n",
       "</tr>\n",
       "<tr>\n",
       "  <th>const</th>              <td> 5080.4874</td> <td>  485.036</td> <td>   10.474</td> <td> 0.000</td> <td> 4129.834</td> <td> 6031.141</td>\n",
       "</tr>\n",
       "<tr>\n",
       "  <th>ar.L1.market_value</th> <td>    0.9985</td> <td>    0.001</td> <td> 1296.972</td> <td> 0.000</td> <td>    0.997</td> <td>    1.000</td>\n",
       "</tr>\n",
       "</table>\n",
       "<table class=\"simpletable\">\n",
       "<caption>Roots</caption>\n",
       "<tr>\n",
       "    <td></td>   <th>            Real</th>  <th>         Imaginary</th> <th>         Modulus</th>  <th>        Frequency</th>\n",
       "</tr>\n",
       "<tr>\n",
       "  <th>AR.1</th> <td>           1.0015</td> <td>          +0.0000j</td> <td>           1.0015</td> <td>           0.0000</td>\n",
       "</tr>\n",
       "</table>"
      ],
      "text/plain": [
       "<class 'statsmodels.iolib.summary.Summary'>\n",
       "\"\"\"\n",
       "                              ARMA Model Results                              \n",
       "==============================================================================\n",
       "Dep. Variable:           market_value   No. Observations:                 5021\n",
       "Model:                     ARMA(1, 0)   Log Likelihood              -27622.601\n",
       "Method:                       css-mle   S.D. of innovations             59.258\n",
       "Date:                Wed, 01 Apr 2020   AIC                          55251.202\n",
       "Time:                        11:55:04   BIC                          55270.766\n",
       "Sample:                    01-07-1994   HQIC                         55258.058\n",
       "                         - 04-05-2013                                         \n",
       "======================================================================================\n",
       "                         coef    std err          z      P>|z|      [0.025      0.975]\n",
       "--------------------------------------------------------------------------------------\n",
       "const               5080.4874    485.036     10.474      0.000    4129.834    6031.141\n",
       "ar.L1.market_value     0.9985      0.001   1296.972      0.000       0.997       1.000\n",
       "                                    Roots                                    \n",
       "=============================================================================\n",
       "                  Real          Imaginary           Modulus         Frequency\n",
       "-----------------------------------------------------------------------------\n",
       "AR.1            1.0015           +0.0000j            1.0015            0.0000\n",
       "-----------------------------------------------------------------------------\n",
       "\"\"\""
      ]
     },
     "execution_count": 7,
     "metadata": {},
     "output_type": "execute_result"
    }
   ],
   "source": [
    "#fit the model to find coefficients\n",
    "results_ar = model_ar.fit()\n",
    "results_ar.summary()"
   ]
  },
  {
   "cell_type": "markdown",
   "metadata": {},
   "source": [
    "**Higher order AR model**  \n",
    "We want to see how to fit higher order AR models for AR(2) ... AR(n). We will analyze each model individual and then use the log likelihood ratio test to determine whether a more complex model makes better predictions\n",
    "\n",
    "**AR(2) Model**"
   ]
  },
  {
   "cell_type": "code",
   "execution_count": 8,
   "metadata": {},
   "outputs": [
    {
     "data": {
      "text/html": [
       "<table class=\"simpletable\">\n",
       "<caption>ARMA Model Results</caption>\n",
       "<tr>\n",
       "  <th>Dep. Variable:</th>   <td>market_value</td>   <th>  No. Observations:  </th>    <td>5021</td>   \n",
       "</tr>\n",
       "<tr>\n",
       "  <th>Model:</th>            <td>ARMA(2, 0)</td>    <th>  Log Likelihood     </th> <td>-27621.866</td>\n",
       "</tr>\n",
       "<tr>\n",
       "  <th>Method:</th>             <td>css-mle</td>     <th>  S.D. of innovations</th>   <td>59.249</td>  \n",
       "</tr>\n",
       "<tr>\n",
       "  <th>Date:</th>          <td>Wed, 01 Apr 2020</td> <th>  AIC                </th>  <td>55251.732</td>\n",
       "</tr>\n",
       "<tr>\n",
       "  <th>Time:</th>              <td>11:55:06</td>     <th>  BIC                </th>  <td>55277.817</td>\n",
       "</tr>\n",
       "<tr>\n",
       "  <th>Sample:</th>           <td>01-07-1994</td>    <th>  HQIC               </th>  <td>55260.872</td>\n",
       "</tr>\n",
       "<tr>\n",
       "  <th></th>                 <td>- 04-05-2013</td>   <th>                     </th>      <td> </td>    \n",
       "</tr>\n",
       "</table>\n",
       "<table class=\"simpletable\">\n",
       "<tr>\n",
       "           <td></td>             <th>coef</th>     <th>std err</th>      <th>z</th>      <th>P>|z|</th>  <th>[0.025</th>    <th>0.975]</th>  \n",
       "</tr>\n",
       "<tr>\n",
       "  <th>const</th>              <td> 5048.1743</td> <td>  494.762</td> <td>   10.203</td> <td> 0.000</td> <td> 4078.459</td> <td> 6017.890</td>\n",
       "</tr>\n",
       "<tr>\n",
       "  <th>ar.L1.market_value</th> <td>    0.9814</td> <td>    0.014</td> <td>   69.595</td> <td> 0.000</td> <td>    0.954</td> <td>    1.009</td>\n",
       "</tr>\n",
       "<tr>\n",
       "  <th>ar.L2.market_value</th> <td>    0.0171</td> <td>    0.014</td> <td>    1.211</td> <td> 0.226</td> <td>   -0.011</td> <td>    0.045</td>\n",
       "</tr>\n",
       "</table>\n",
       "<table class=\"simpletable\">\n",
       "<caption>Roots</caption>\n",
       "<tr>\n",
       "    <td></td>   <th>            Real</th>  <th>         Imaginary</th> <th>         Modulus</th>  <th>        Frequency</th>\n",
       "</tr>\n",
       "<tr>\n",
       "  <th>AR.1</th> <td>           1.0015</td> <td>          +0.0000j</td> <td>           1.0015</td> <td>           0.0000</td>\n",
       "</tr>\n",
       "<tr>\n",
       "  <th>AR.2</th> <td>         -58.4623</td> <td>          +0.0000j</td> <td>          58.4623</td> <td>           0.5000</td>\n",
       "</tr>\n",
       "</table>"
      ],
      "text/plain": [
       "<class 'statsmodels.iolib.summary.Summary'>\n",
       "\"\"\"\n",
       "                              ARMA Model Results                              \n",
       "==============================================================================\n",
       "Dep. Variable:           market_value   No. Observations:                 5021\n",
       "Model:                     ARMA(2, 0)   Log Likelihood              -27621.866\n",
       "Method:                       css-mle   S.D. of innovations             59.249\n",
       "Date:                Wed, 01 Apr 2020   AIC                          55251.732\n",
       "Time:                        11:55:06   BIC                          55277.817\n",
       "Sample:                    01-07-1994   HQIC                         55260.872\n",
       "                         - 04-05-2013                                         \n",
       "======================================================================================\n",
       "                         coef    std err          z      P>|z|      [0.025      0.975]\n",
       "--------------------------------------------------------------------------------------\n",
       "const               5048.1743    494.762     10.203      0.000    4078.459    6017.890\n",
       "ar.L1.market_value     0.9814      0.014     69.595      0.000       0.954       1.009\n",
       "ar.L2.market_value     0.0171      0.014      1.211      0.226      -0.011       0.045\n",
       "                                    Roots                                    \n",
       "=============================================================================\n",
       "                  Real          Imaginary           Modulus         Frequency\n",
       "-----------------------------------------------------------------------------\n",
       "AR.1            1.0015           +0.0000j            1.0015            0.0000\n",
       "AR.2          -58.4623           +0.0000j           58.4623            0.5000\n",
       "-----------------------------------------------------------------------------\n",
       "\"\"\""
      ]
     },
     "execution_count": 8,
     "metadata": {},
     "output_type": "execute_result"
    }
   ],
   "source": [
    "model_ar2 = ARMA(train.market_value, order=(2,0))\n",
    "results_ar2 = model_ar2.fit()\n",
    "results_ar2.summary()"
   ]
  },
  {
   "cell_type": "markdown",
   "metadata": {},
   "source": [
    "**Interpretation:** Note that the p-value of AR(2) component is not significant. This suggest coef is not significantly different than 0 and we can assume it is 0. This means that the prices 2 days ago (aka AR(2) component) do not significantly affect the prices today. The prices one day ago (AR(1) component) still significantly affect the prices today though.\n",
    "\n",
    "\n",
    "Now we try AR(3) and AR(4) models to see if coefficients are significantly different from zero... Also note, the more AR components you have, you might overfit the model so we will see if these are necessary to add and then use the log likelihood test to decide if the more complex models are worth using"
   ]
  },
  {
   "cell_type": "code",
   "execution_count": 9,
   "metadata": {},
   "outputs": [
    {
     "data": {
      "text/html": [
       "<table class=\"simpletable\">\n",
       "<caption>ARMA Model Results</caption>\n",
       "<tr>\n",
       "  <th>Dep. Variable:</th>   <td>market_value</td>   <th>  No. Observations:  </th>    <td>5021</td>   \n",
       "</tr>\n",
       "<tr>\n",
       "  <th>Model:</th>            <td>ARMA(3, 0)</td>    <th>  Log Likelihood     </th> <td>-27615.867</td>\n",
       "</tr>\n",
       "<tr>\n",
       "  <th>Method:</th>             <td>css-mle</td>     <th>  S.D. of innovations</th>   <td>59.178</td>  \n",
       "</tr>\n",
       "<tr>\n",
       "  <th>Date:</th>          <td>Wed, 01 Apr 2020</td> <th>  AIC                </th>  <td>55241.733</td>\n",
       "</tr>\n",
       "<tr>\n",
       "  <th>Time:</th>              <td>11:55:08</td>     <th>  BIC                </th>  <td>55274.340</td>\n",
       "</tr>\n",
       "<tr>\n",
       "  <th>Sample:</th>           <td>01-07-1994</td>    <th>  HQIC               </th>  <td>55253.159</td>\n",
       "</tr>\n",
       "<tr>\n",
       "  <th></th>                 <td>- 04-05-2013</td>   <th>                     </th>      <td> </td>    \n",
       "</tr>\n",
       "</table>\n",
       "<table class=\"simpletable\">\n",
       "<tr>\n",
       "           <td></td>             <th>coef</th>     <th>std err</th>      <th>z</th>      <th>P>|z|</th>  <th>[0.025</th>    <th>0.975]</th>  \n",
       "</tr>\n",
       "<tr>\n",
       "  <th>const</th>              <td> 5008.6404</td> <td>  522.419</td> <td>    9.587</td> <td> 0.000</td> <td> 3984.718</td> <td> 6032.562</td>\n",
       "</tr>\n",
       "<tr>\n",
       "  <th>ar.L1.market_value</th> <td>    0.9806</td> <td>    0.014</td> <td>   69.620</td> <td> 0.000</td> <td>    0.953</td> <td>    1.008</td>\n",
       "</tr>\n",
       "<tr>\n",
       "  <th>ar.L2.market_value</th> <td>   -0.0308</td> <td>    0.020</td> <td>   -1.563</td> <td> 0.118</td> <td>   -0.070</td> <td>    0.008</td>\n",
       "</tr>\n",
       "<tr>\n",
       "  <th>ar.L3.market_value</th> <td>    0.0489</td> <td>    0.014</td> <td>    3.466</td> <td> 0.001</td> <td>    0.021</td> <td>    0.077</td>\n",
       "</tr>\n",
       "</table>\n",
       "<table class=\"simpletable\">\n",
       "<caption>Roots</caption>\n",
       "<tr>\n",
       "    <td></td>   <th>            Real</th>  <th>         Imaginary</th> <th>         Modulus</th>  <th>        Frequency</th>\n",
       "</tr>\n",
       "<tr>\n",
       "  <th>AR.1</th> <td>           1.0013</td> <td>          -0.0000j</td> <td>           1.0013</td> <td>          -0.0000</td>\n",
       "</tr>\n",
       "<tr>\n",
       "  <th>AR.2</th> <td>          -0.1851</td> <td>          -4.5163j</td> <td>           4.5201</td> <td>          -0.2565</td>\n",
       "</tr>\n",
       "<tr>\n",
       "  <th>AR.3</th> <td>          -0.1851</td> <td>          +4.5163j</td> <td>           4.5201</td> <td>           0.2565</td>\n",
       "</tr>\n",
       "</table>"
      ],
      "text/plain": [
       "<class 'statsmodels.iolib.summary.Summary'>\n",
       "\"\"\"\n",
       "                              ARMA Model Results                              \n",
       "==============================================================================\n",
       "Dep. Variable:           market_value   No. Observations:                 5021\n",
       "Model:                     ARMA(3, 0)   Log Likelihood              -27615.867\n",
       "Method:                       css-mle   S.D. of innovations             59.178\n",
       "Date:                Wed, 01 Apr 2020   AIC                          55241.733\n",
       "Time:                        11:55:08   BIC                          55274.340\n",
       "Sample:                    01-07-1994   HQIC                         55253.159\n",
       "                         - 04-05-2013                                         \n",
       "======================================================================================\n",
       "                         coef    std err          z      P>|z|      [0.025      0.975]\n",
       "--------------------------------------------------------------------------------------\n",
       "const               5008.6404    522.419      9.587      0.000    3984.718    6032.562\n",
       "ar.L1.market_value     0.9806      0.014     69.620      0.000       0.953       1.008\n",
       "ar.L2.market_value    -0.0308      0.020     -1.563      0.118      -0.070       0.008\n",
       "ar.L3.market_value     0.0489      0.014      3.466      0.001       0.021       0.077\n",
       "                                    Roots                                    \n",
       "=============================================================================\n",
       "                  Real          Imaginary           Modulus         Frequency\n",
       "-----------------------------------------------------------------------------\n",
       "AR.1            1.0013           -0.0000j            1.0013           -0.0000\n",
       "AR.2           -0.1851           -4.5163j            4.5201           -0.2565\n",
       "AR.3           -0.1851           +4.5163j            4.5201            0.2565\n",
       "-----------------------------------------------------------------------------\n",
       "\"\"\""
      ]
     },
     "execution_count": 9,
     "metadata": {},
     "output_type": "execute_result"
    }
   ],
   "source": [
    "model_ar3 = ARMA(train.market_value, order=(3,0))\n",
    "results_ar3 = model_ar3.fit()\n",
    "results_ar3.summary()"
   ]
  },
  {
   "cell_type": "code",
   "execution_count": 10,
   "metadata": {},
   "outputs": [
    {
     "data": {
      "text/html": [
       "<table class=\"simpletable\">\n",
       "<caption>ARMA Model Results</caption>\n",
       "<tr>\n",
       "  <th>Dep. Variable:</th>   <td>market_value</td>   <th>  No. Observations:  </th>    <td>5021</td>   \n",
       "</tr>\n",
       "<tr>\n",
       "  <th>Model:</th>            <td>ARMA(4, 0)</td>    <th>  Log Likelihood     </th> <td>-27602.565</td>\n",
       "</tr>\n",
       "<tr>\n",
       "  <th>Method:</th>             <td>css-mle</td>     <th>  S.D. of innovations</th>   <td>59.022</td>  \n",
       "</tr>\n",
       "<tr>\n",
       "  <th>Date:</th>          <td>Wed, 01 Apr 2020</td> <th>  AIC                </th>  <td>55217.130</td>\n",
       "</tr>\n",
       "<tr>\n",
       "  <th>Time:</th>              <td>11:55:09</td>     <th>  BIC                </th>  <td>55256.258</td>\n",
       "</tr>\n",
       "<tr>\n",
       "  <th>Sample:</th>           <td>01-07-1994</td>    <th>  HQIC               </th>  <td>55230.841</td>\n",
       "</tr>\n",
       "<tr>\n",
       "  <th></th>                 <td>- 04-05-2013</td>   <th>                     </th>      <td> </td>    \n",
       "</tr>\n",
       "</table>\n",
       "<table class=\"simpletable\">\n",
       "<tr>\n",
       "           <td></td>             <th>coef</th>     <th>std err</th>      <th>z</th>      <th>P>|z|</th>  <th>[0.025</th>    <th>0.975]</th>  \n",
       "</tr>\n",
       "<tr>\n",
       "  <th>const</th>              <td> 5089.6411</td> <td>  560.003</td> <td>    9.089</td> <td> 0.000</td> <td> 3992.055</td> <td> 6187.227</td>\n",
       "</tr>\n",
       "<tr>\n",
       "  <th>ar.L1.market_value</th> <td>    0.9770</td> <td>    0.014</td> <td>   69.492</td> <td> 0.000</td> <td>    0.949</td> <td>    1.005</td>\n",
       "</tr>\n",
       "<tr>\n",
       "  <th>ar.L2.market_value</th> <td>   -0.0286</td> <td>    0.020</td> <td>   -1.455</td> <td> 0.146</td> <td>   -0.067</td> <td>    0.010</td>\n",
       "</tr>\n",
       "<tr>\n",
       "  <th>ar.L3.market_value</th> <td>   -0.0224</td> <td>    0.020</td> <td>   -1.135</td> <td> 0.256</td> <td>   -0.061</td> <td>    0.016</td>\n",
       "</tr>\n",
       "<tr>\n",
       "  <th>ar.L4.market_value</th> <td>    0.0728</td> <td>    0.014</td> <td>    5.166</td> <td> 0.000</td> <td>    0.045</td> <td>    0.100</td>\n",
       "</tr>\n",
       "</table>\n",
       "<table class=\"simpletable\">\n",
       "<caption>Roots</caption>\n",
       "<tr>\n",
       "    <td></td>   <th>            Real</th>  <th>         Imaginary</th> <th>         Modulus</th>  <th>        Frequency</th>\n",
       "</tr>\n",
       "<tr>\n",
       "  <th>AR.1</th> <td>           1.0011</td> <td>          -0.0000j</td> <td>           1.0011</td> <td>          -0.0000</td>\n",
       "</tr>\n",
       "<tr>\n",
       "  <th>AR.2</th> <td>           0.9550</td> <td>          -2.0884j</td> <td>           2.2964</td> <td>          -0.1817</td>\n",
       "</tr>\n",
       "<tr>\n",
       "  <th>AR.3</th> <td>           0.9550</td> <td>          +2.0884j</td> <td>           2.2964</td> <td>           0.1817</td>\n",
       "</tr>\n",
       "<tr>\n",
       "  <th>AR.4</th> <td>          -2.6036</td> <td>          -0.0000j</td> <td>           2.6036</td> <td>          -0.5000</td>\n",
       "</tr>\n",
       "</table>"
      ],
      "text/plain": [
       "<class 'statsmodels.iolib.summary.Summary'>\n",
       "\"\"\"\n",
       "                              ARMA Model Results                              \n",
       "==============================================================================\n",
       "Dep. Variable:           market_value   No. Observations:                 5021\n",
       "Model:                     ARMA(4, 0)   Log Likelihood              -27602.565\n",
       "Method:                       css-mle   S.D. of innovations             59.022\n",
       "Date:                Wed, 01 Apr 2020   AIC                          55217.130\n",
       "Time:                        11:55:09   BIC                          55256.258\n",
       "Sample:                    01-07-1994   HQIC                         55230.841\n",
       "                         - 04-05-2013                                         \n",
       "======================================================================================\n",
       "                         coef    std err          z      P>|z|      [0.025      0.975]\n",
       "--------------------------------------------------------------------------------------\n",
       "const               5089.6411    560.003      9.089      0.000    3992.055    6187.227\n",
       "ar.L1.market_value     0.9770      0.014     69.492      0.000       0.949       1.005\n",
       "ar.L2.market_value    -0.0286      0.020     -1.455      0.146      -0.067       0.010\n",
       "ar.L3.market_value    -0.0224      0.020     -1.135      0.256      -0.061       0.016\n",
       "ar.L4.market_value     0.0728      0.014      5.166      0.000       0.045       0.100\n",
       "                                    Roots                                    \n",
       "=============================================================================\n",
       "                  Real          Imaginary           Modulus         Frequency\n",
       "-----------------------------------------------------------------------------\n",
       "AR.1            1.0011           -0.0000j            1.0011           -0.0000\n",
       "AR.2            0.9550           -2.0884j            2.2964           -0.1817\n",
       "AR.3            0.9550           +2.0884j            2.2964            0.1817\n",
       "AR.4           -2.6036           -0.0000j            2.6036           -0.5000\n",
       "-----------------------------------------------------------------------------\n",
       "\"\"\""
      ]
     },
     "execution_count": 10,
     "metadata": {},
     "output_type": "execute_result"
    }
   ],
   "source": [
    "model_ar4 = ARMA(train.market_value, order=(4,0))\n",
    "results_ar4 = model_ar4.fit()\n",
    "results_ar4.summary()"
   ]
  },
  {
   "cell_type": "code",
   "execution_count": 44,
   "metadata": {},
   "outputs": [],
   "source": [
    "#Methods above dont work so doing more manually\n",
    "def LLR_test(mod_1, mod_2):\n",
    "    res1 = mod_1.fit()\n",
    "    res2 = mod_2.fit()\n",
    "    res1.summary()\n",
    "    LR = 2*(res2.llf - res1.llf)\n",
    "    print('P-Value for LLR:', chi2.sf(LR, 1).round(3))\n",
    "    print('**Results Summary for Higher Order Model**')\n",
    "    return res2.summary()"
   ]
  },
  {
   "cell_type": "code",
   "execution_count": 46,
   "metadata": {},
   "outputs": [
    {
     "name": "stdout",
     "output_type": "stream",
     "text": [
      "P-Value for LLR: 0.001\n",
      "**Results Summary for Higher Order Model**\n"
     ]
    },
    {
     "data": {
      "text/html": [
       "<table class=\"simpletable\">\n",
       "<caption>ARMA Model Results</caption>\n",
       "<tr>\n",
       "  <th>Dep. Variable:</th>   <td>market_value</td>   <th>  No. Observations:  </th>    <td>5020</td>   \n",
       "</tr>\n",
       "<tr>\n",
       "  <th>Model:</th>            <td>ARMA(3, 0)</td>    <th>  Log Likelihood     </th> <td>-27610.867</td>\n",
       "</tr>\n",
       "<tr>\n",
       "  <th>Method:</th>             <td>css-mle</td>     <th>  S.D. of innovations</th>   <td>59.184</td>  \n",
       "</tr>\n",
       "<tr>\n",
       "  <th>Date:</th>          <td>Wed, 01 Apr 2020</td> <th>  AIC                </th>  <td>55231.734</td>\n",
       "</tr>\n",
       "<tr>\n",
       "  <th>Time:</th>              <td>12:24:30</td>     <th>  BIC                </th>  <td>55264.340</td>\n",
       "</tr>\n",
       "<tr>\n",
       "  <th>Sample:</th>           <td>01-10-1994</td>    <th>  HQIC               </th>  <td>55243.160</td>\n",
       "</tr>\n",
       "<tr>\n",
       "  <th></th>                 <td>- 04-05-2013</td>   <th>                     </th>      <td> </td>    \n",
       "</tr>\n",
       "</table>\n",
       "<table class=\"simpletable\">\n",
       "<tr>\n",
       "           <td></td>             <th>coef</th>     <th>std err</th>      <th>z</th>      <th>P>|z|</th>  <th>[0.025</th>    <th>0.975]</th>  \n",
       "</tr>\n",
       "<tr>\n",
       "  <th>const</th>              <td> 5089.9687</td> <td>  520.995</td> <td>    9.770</td> <td> 0.000</td> <td> 4068.838</td> <td> 6111.100</td>\n",
       "</tr>\n",
       "<tr>\n",
       "  <th>ar.L1.market_value</th> <td>    0.9806</td> <td>    0.014</td> <td>   69.611</td> <td> 0.000</td> <td>    0.953</td> <td>    1.008</td>\n",
       "</tr>\n",
       "<tr>\n",
       "  <th>ar.L2.market_value</th> <td>   -0.0309</td> <td>    0.020</td> <td>   -1.563</td> <td> 0.118</td> <td>   -0.070</td> <td>    0.008</td>\n",
       "</tr>\n",
       "<tr>\n",
       "  <th>ar.L3.market_value</th> <td>    0.0489</td> <td>    0.014</td> <td>    3.467</td> <td> 0.001</td> <td>    0.021</td> <td>    0.077</td>\n",
       "</tr>\n",
       "</table>\n",
       "<table class=\"simpletable\">\n",
       "<caption>Roots</caption>\n",
       "<tr>\n",
       "    <td></td>   <th>            Real</th>  <th>         Imaginary</th> <th>         Modulus</th>  <th>        Frequency</th>\n",
       "</tr>\n",
       "<tr>\n",
       "  <th>AR.1</th> <td>           1.0013</td> <td>          -0.0000j</td> <td>           1.0013</td> <td>          -0.0000</td>\n",
       "</tr>\n",
       "<tr>\n",
       "  <th>AR.2</th> <td>          -0.1851</td> <td>          -4.5155j</td> <td>           4.5193</td> <td>          -0.2565</td>\n",
       "</tr>\n",
       "<tr>\n",
       "  <th>AR.3</th> <td>          -0.1851</td> <td>          +4.5155j</td> <td>           4.5193</td> <td>           0.2565</td>\n",
       "</tr>\n",
       "</table>"
      ],
      "text/plain": [
       "<class 'statsmodels.iolib.summary.Summary'>\n",
       "\"\"\"\n",
       "                              ARMA Model Results                              \n",
       "==============================================================================\n",
       "Dep. Variable:           market_value   No. Observations:                 5020\n",
       "Model:                     ARMA(3, 0)   Log Likelihood              -27610.867\n",
       "Method:                       css-mle   S.D. of innovations             59.184\n",
       "Date:                Wed, 01 Apr 2020   AIC                          55231.734\n",
       "Time:                        12:24:30   BIC                          55264.340\n",
       "Sample:                    01-10-1994   HQIC                         55243.160\n",
       "                         - 04-05-2013                                         \n",
       "======================================================================================\n",
       "                         coef    std err          z      P>|z|      [0.025      0.975]\n",
       "--------------------------------------------------------------------------------------\n",
       "const               5089.9687    520.995      9.770      0.000    4068.838    6111.100\n",
       "ar.L1.market_value     0.9806      0.014     69.611      0.000       0.953       1.008\n",
       "ar.L2.market_value    -0.0309      0.020     -1.563      0.118      -0.070       0.008\n",
       "ar.L3.market_value     0.0489      0.014      3.467      0.001       0.021       0.077\n",
       "                                    Roots                                    \n",
       "=============================================================================\n",
       "                  Real          Imaginary           Modulus         Frequency\n",
       "-----------------------------------------------------------------------------\n",
       "AR.1            1.0013           -0.0000j            1.0013           -0.0000\n",
       "AR.2           -0.1851           -4.5155j            4.5193           -0.2565\n",
       "AR.3           -0.1851           +4.5155j            4.5193            0.2565\n",
       "-----------------------------------------------------------------------------\n",
       "\"\"\""
      ]
     },
     "execution_count": 46,
     "metadata": {},
     "output_type": "execute_result"
    }
   ],
   "source": [
    "model_ar2 = ARMA(train.market_value, order=(2,0))\n",
    "model_ar3 = ARMA(train.market_value, order=(3,0))\n",
    "LLR_test(model_ar2, model_ar3)"
   ]
  },
  {
   "cell_type": "code",
   "execution_count": 47,
   "metadata": {},
   "outputs": [
    {
     "name": "stdout",
     "output_type": "stream",
     "text": [
      "P-Value for LLR: 0.0\n",
      "**Results Summary for Higher Order Model**\n"
     ]
    },
    {
     "data": {
      "text/html": [
       "<table class=\"simpletable\">\n",
       "<caption>ARMA Model Results</caption>\n",
       "<tr>\n",
       "  <th>Dep. Variable:</th>   <td>market_value</td>   <th>  No. Observations:  </th>    <td>5020</td>   \n",
       "</tr>\n",
       "<tr>\n",
       "  <th>Model:</th>            <td>ARMA(4, 0)</td>    <th>  Log Likelihood     </th> <td>-27597.562</td>\n",
       "</tr>\n",
       "<tr>\n",
       "  <th>Method:</th>             <td>css-mle</td>     <th>  S.D. of innovations</th>   <td>59.027</td>  \n",
       "</tr>\n",
       "<tr>\n",
       "  <th>Date:</th>          <td>Wed, 01 Apr 2020</td> <th>  AIC                </th>  <td>55207.123</td>\n",
       "</tr>\n",
       "<tr>\n",
       "  <th>Time:</th>              <td>12:24:41</td>     <th>  BIC                </th>  <td>55246.250</td>\n",
       "</tr>\n",
       "<tr>\n",
       "  <th>Sample:</th>           <td>01-10-1994</td>    <th>  HQIC               </th>  <td>55220.834</td>\n",
       "</tr>\n",
       "<tr>\n",
       "  <th></th>                 <td>- 04-05-2013</td>   <th>                     </th>      <td> </td>    \n",
       "</tr>\n",
       "</table>\n",
       "<table class=\"simpletable\">\n",
       "<tr>\n",
       "           <td></td>             <th>coef</th>     <th>std err</th>      <th>z</th>      <th>P>|z|</th>  <th>[0.025</th>    <th>0.975]</th>  \n",
       "</tr>\n",
       "<tr>\n",
       "  <th>const</th>              <td> 5089.9695</td> <td>  560.826</td> <td>    9.076</td> <td> 0.000</td> <td> 3990.770</td> <td> 6189.169</td>\n",
       "</tr>\n",
       "<tr>\n",
       "  <th>ar.L1.market_value</th> <td>    0.9770</td> <td>    0.014</td> <td>   69.483</td> <td> 0.000</td> <td>    0.949</td> <td>    1.005</td>\n",
       "</tr>\n",
       "<tr>\n",
       "  <th>ar.L2.market_value</th> <td>   -0.0286</td> <td>    0.020</td> <td>   -1.455</td> <td> 0.146</td> <td>   -0.067</td> <td>    0.010</td>\n",
       "</tr>\n",
       "<tr>\n",
       "  <th>ar.L3.market_value</th> <td>   -0.0224</td> <td>    0.020</td> <td>   -1.135</td> <td> 0.257</td> <td>   -0.061</td> <td>    0.016</td>\n",
       "</tr>\n",
       "<tr>\n",
       "  <th>ar.L4.market_value</th> <td>    0.0728</td> <td>    0.014</td> <td>    5.165</td> <td> 0.000</td> <td>    0.045</td> <td>    0.100</td>\n",
       "</tr>\n",
       "</table>\n",
       "<table class=\"simpletable\">\n",
       "<caption>Roots</caption>\n",
       "<tr>\n",
       "    <td></td>   <th>            Real</th>  <th>         Imaginary</th> <th>         Modulus</th>  <th>        Frequency</th>\n",
       "</tr>\n",
       "<tr>\n",
       "  <th>AR.1</th> <td>           1.0011</td> <td>          -0.0000j</td> <td>           1.0011</td> <td>          -0.0000</td>\n",
       "</tr>\n",
       "<tr>\n",
       "  <th>AR.2</th> <td>           0.9549</td> <td>          -2.0883j</td> <td>           2.2963</td> <td>          -0.1817</td>\n",
       "</tr>\n",
       "<tr>\n",
       "  <th>AR.3</th> <td>           0.9549</td> <td>          +2.0883j</td> <td>           2.2963</td> <td>           0.1817</td>\n",
       "</tr>\n",
       "<tr>\n",
       "  <th>AR.4</th> <td>          -2.6035</td> <td>          -0.0000j</td> <td>           2.6035</td> <td>          -0.5000</td>\n",
       "</tr>\n",
       "</table>"
      ],
      "text/plain": [
       "<class 'statsmodels.iolib.summary.Summary'>\n",
       "\"\"\"\n",
       "                              ARMA Model Results                              \n",
       "==============================================================================\n",
       "Dep. Variable:           market_value   No. Observations:                 5020\n",
       "Model:                     ARMA(4, 0)   Log Likelihood              -27597.562\n",
       "Method:                       css-mle   S.D. of innovations             59.027\n",
       "Date:                Wed, 01 Apr 2020   AIC                          55207.123\n",
       "Time:                        12:24:41   BIC                          55246.250\n",
       "Sample:                    01-10-1994   HQIC                         55220.834\n",
       "                         - 04-05-2013                                         \n",
       "======================================================================================\n",
       "                         coef    std err          z      P>|z|      [0.025      0.975]\n",
       "--------------------------------------------------------------------------------------\n",
       "const               5089.9695    560.826      9.076      0.000    3990.770    6189.169\n",
       "ar.L1.market_value     0.9770      0.014     69.483      0.000       0.949       1.005\n",
       "ar.L2.market_value    -0.0286      0.020     -1.455      0.146      -0.067       0.010\n",
       "ar.L3.market_value    -0.0224      0.020     -1.135      0.257      -0.061       0.016\n",
       "ar.L4.market_value     0.0728      0.014      5.165      0.000       0.045       0.100\n",
       "                                    Roots                                    \n",
       "=============================================================================\n",
       "                  Real          Imaginary           Modulus         Frequency\n",
       "-----------------------------------------------------------------------------\n",
       "AR.1            1.0011           -0.0000j            1.0011           -0.0000\n",
       "AR.2            0.9549           -2.0883j            2.2963           -0.1817\n",
       "AR.3            0.9549           +2.0883j            2.2963            0.1817\n",
       "AR.4           -2.6035           -0.0000j            2.6035           -0.5000\n",
       "-----------------------------------------------------------------------------\n",
       "\"\"\""
      ]
     },
     "execution_count": 47,
     "metadata": {},
     "output_type": "execute_result"
    }
   ],
   "source": [
    "model_ar3 = ARMA(train.market_value, order=(3,0))\n",
    "model_ar4 = ARMA(train.market_value, order=(4,0))\n",
    "LLR_test(model_ar3, model_ar4)"
   ]
  },
  {
   "cell_type": "markdown",
   "metadata": {},
   "source": [
    "You will end up finding that AR(7) model > AR(8) and so you compare AR(7) and AR(1). The higher order model is better even though AR(1) was better than AR(2). In general, you will find that the higher order model is better with non-stationary data. We want to avoid this (minimize # of components) so we have to make our data stationary before modeling it\n",
    "\n",
    "**To see if a series is stationary or not  \n",
    "ADF test (unit root test):**  \n",
    "Null hypothesis: Series has unit root (is non-stationary)  \n",
    "If p <= 0.05 -> reject null, series is stationary  \n",
    "If p > 0.05  -> fail to reject null, series is non-stationary"
   ]
  },
  {
   "cell_type": "code",
   "execution_count": 17,
   "metadata": {},
   "outputs": [
    {
     "data": {
      "text/plain": [
       "(-1.5977788921179858,\n",
       " 0.48470912054659626,\n",
       " 6,\n",
       " 6270,\n",
       " {'1%': -3.4313933778649943,\n",
       "  '5%': -2.862001080749219,\n",
       "  '10%': -2.567015430304048},\n",
       " 68476.87620974617)"
      ]
     },
     "execution_count": 17,
     "metadata": {},
     "output_type": "execute_result"
    }
   ],
   "source": [
    "sts.adfuller(data.market_value)\n",
    "#p-value = 0.4847 > 0.05 -> series is non-stationary"
   ]
  },
  {
   "cell_type": "markdown",
   "metadata": {},
   "source": [
    "**Finance Minute**\n",
    "We cannot rely solely on AR models with this data so we need to transform the series to make it stationary.\n",
    "\n",
    "**In Finance:** They use returns (recall in Dr. Riddel's class we difference the series => difference between two values). Returns is the %change between two values of consecutive periods. Positive returns means % > 0, negative returns means % < 0\n",
    "\n",
    "**For FTSE**: We will create the returns of prices before modeling the series"
   ]
  },
  {
   "cell_type": "code",
   "execution_count": 18,
   "metadata": {},
   "outputs": [
    {
     "data": {
      "text/html": [
       "<div>\n",
       "<style scoped>\n",
       "    .dataframe tbody tr th:only-of-type {\n",
       "        vertical-align: middle;\n",
       "    }\n",
       "\n",
       "    .dataframe tbody tr th {\n",
       "        vertical-align: top;\n",
       "    }\n",
       "\n",
       "    .dataframe thead th {\n",
       "        text-align: right;\n",
       "    }\n",
       "</style>\n",
       "<table border=\"1\" class=\"dataframe\">\n",
       "  <thead>\n",
       "    <tr style=\"text-align: right;\">\n",
       "      <th></th>\n",
       "      <th>market_value</th>\n",
       "      <th>returns</th>\n",
       "    </tr>\n",
       "    <tr>\n",
       "      <th>date</th>\n",
       "      <th></th>\n",
       "      <th></th>\n",
       "    </tr>\n",
       "  </thead>\n",
       "  <tbody>\n",
       "    <tr>\n",
       "      <th>1994-01-10</th>\n",
       "      <td>3440.58</td>\n",
       "      <td>-0.156704</td>\n",
       "    </tr>\n",
       "    <tr>\n",
       "      <th>1994-01-11</th>\n",
       "      <td>3413.77</td>\n",
       "      <td>-0.779229</td>\n",
       "    </tr>\n",
       "    <tr>\n",
       "      <th>1994-01-12</th>\n",
       "      <td>3372.02</td>\n",
       "      <td>-1.222988</td>\n",
       "    </tr>\n",
       "    <tr>\n",
       "      <th>1994-01-13</th>\n",
       "      <td>3360.01</td>\n",
       "      <td>-0.356166</td>\n",
       "    </tr>\n",
       "    <tr>\n",
       "      <th>1994-01-14</th>\n",
       "      <td>3400.56</td>\n",
       "      <td>1.206842</td>\n",
       "    </tr>\n",
       "  </tbody>\n",
       "</table>\n",
       "</div>"
      ],
      "text/plain": [
       "            market_value   returns\n",
       "date                              \n",
       "1994-01-10       3440.58 -0.156704\n",
       "1994-01-11       3413.77 -0.779229\n",
       "1994-01-12       3372.02 -1.222988\n",
       "1994-01-13       3360.01 -0.356166\n",
       "1994-01-14       3400.56  1.206842"
      ]
     },
     "execution_count": 18,
     "metadata": {},
     "output_type": "execute_result"
    }
   ],
   "source": [
    "#pandas method = returns proportions so we *100 using mul method\n",
    "data['returns'] = data.market_value.pct_change(1).mul(100)\n",
    "data = data.iloc[1:] #remove first period diff which is NA to avoid python errors\n",
    "data.head()"
   ]
  },
  {
   "cell_type": "code",
   "execution_count": 19,
   "metadata": {},
   "outputs": [
    {
     "data": {
      "text/plain": [
       "(-15.140761332034828,\n",
       " 7.016338451093501e-28,\n",
       " 34,\n",
       " 6241,\n",
       " {'1%': -3.431398228116075,\n",
       "  '5%': -2.8620032237533897,\n",
       "  '10%': -2.5670165710764503},\n",
       " 19026.504469066465)"
      ]
     },
     "execution_count": 19,
     "metadata": {},
     "output_type": "execute_result"
    }
   ],
   "source": [
    "sts.adfuller(data.returns)"
   ]
  },
  {
   "cell_type": "markdown",
   "metadata": {},
   "source": [
    "Note above, p-value < 0.05 which means series is now stationary, so we can look at ACF and PACF plots/correlograms to decide the ARMA components to include in our model"
   ]
  },
  {
   "cell_type": "code",
   "execution_count": 20,
   "metadata": {},
   "outputs": [
    {
     "data": {
      "image/png": "[encoded data removed]",
      "text/plain": [
       "<Figure size 1440x360 with 2 Axes>"
      ]
     },
     "metadata": {
      "needs_background": "light"
     },
     "output_type": "display_data"
    }
   ],
   "source": [
    "#ACF and PACF\n",
    "def ACF_and_PACF(series, name):\n",
    "    fig, (ax1, ax2) = plt.subplots(ncols=2, figsize=(20,5))\n",
    "    sgt.plot_acf(series, lags = 40, zero=False,ax=ax1)\n",
    "    sgt.plot_pacf(series, lags = 40, zero = False, method='ols',ax=ax2)\n",
    "    ax1.title.set_text('ACF ' + name + ' Returns')\n",
    "    ax2.title.set_text('PACF ' + name + ' Returns')\n",
    "    plt.show()\n",
    "    \n",
    "ACF_and_PACF(data.returns, 'FTSE')"
   ]
  },
  {
   "cell_type": "markdown",
   "metadata": {},
   "source": [
    "The initial lags show significant coefficients for returns (sig different from zero) in alternating manner. That means the returns alternate increasing and decreasing every day or so. Price increases follow price decreases. This effect is not as significant in the further lags (note that the values fall within the blue zone more even though they still alternate). That means there is no autocorrelation between todays values and much further away days meaning most of the effect on prices today is captured within the last couple of days. We don't need to go too far back to capture this autocorrelation effect.\n",
    "\n",
    "\n",
    "## AR Model for Returns"
   ]
  },
  {
   "cell_type": "code",
   "execution_count": 21,
   "metadata": {},
   "outputs": [
    {
     "data": {
      "text/html": [
       "<div>\n",
       "<style scoped>\n",
       "    .dataframe tbody tr th:only-of-type {\n",
       "        vertical-align: middle;\n",
       "    }\n",
       "\n",
       "    .dataframe tbody tr th {\n",
       "        vertical-align: top;\n",
       "    }\n",
       "\n",
       "    .dataframe thead th {\n",
       "        text-align: right;\n",
       "    }\n",
       "</style>\n",
       "<table border=\"1\" class=\"dataframe\">\n",
       "  <thead>\n",
       "    <tr style=\"text-align: right;\">\n",
       "      <th></th>\n",
       "      <th>market_value</th>\n",
       "      <th>returns</th>\n",
       "    </tr>\n",
       "    <tr>\n",
       "      <th>date</th>\n",
       "      <th></th>\n",
       "      <th></th>\n",
       "    </tr>\n",
       "  </thead>\n",
       "  <tbody>\n",
       "    <tr>\n",
       "      <th>1994-01-10</th>\n",
       "      <td>3440.58</td>\n",
       "      <td>-0.156704</td>\n",
       "    </tr>\n",
       "    <tr>\n",
       "      <th>1994-01-11</th>\n",
       "      <td>3413.77</td>\n",
       "      <td>-0.779229</td>\n",
       "    </tr>\n",
       "    <tr>\n",
       "      <th>1994-01-12</th>\n",
       "      <td>3372.02</td>\n",
       "      <td>-1.222988</td>\n",
       "    </tr>\n",
       "    <tr>\n",
       "      <th>1994-01-13</th>\n",
       "      <td>3360.01</td>\n",
       "      <td>-0.356166</td>\n",
       "    </tr>\n",
       "    <tr>\n",
       "      <th>1994-01-14</th>\n",
       "      <td>3400.56</td>\n",
       "      <td>1.206842</td>\n",
       "    </tr>\n",
       "  </tbody>\n",
       "</table>\n",
       "</div>"
      ],
      "text/plain": [
       "            market_value   returns\n",
       "date                              \n",
       "1994-01-10       3440.58 -0.156704\n",
       "1994-01-11       3413.77 -0.779229\n",
       "1994-01-12       3372.02 -1.222988\n",
       "1994-01-13       3360.01 -0.356166\n",
       "1994-01-14       3400.56  1.206842"
      ]
     },
     "execution_count": 21,
     "metadata": {},
     "output_type": "execute_result"
    }
   ],
   "source": [
    "#data prep\n",
    "sizer = int(len(data)*0.8)\n",
    "train = data.iloc[:sizer]\n",
    "test = data.iloc[sizer:]\n",
    "train.head()"
   ]
  },
  {
   "cell_type": "code",
   "execution_count": 22,
   "metadata": {},
   "outputs": [
    {
     "data": {
      "text/html": [
       "<div>\n",
       "<style scoped>\n",
       "    .dataframe tbody tr th:only-of-type {\n",
       "        vertical-align: middle;\n",
       "    }\n",
       "\n",
       "    .dataframe tbody tr th {\n",
       "        vertical-align: top;\n",
       "    }\n",
       "\n",
       "    .dataframe thead th {\n",
       "        text-align: right;\n",
       "    }\n",
       "</style>\n",
       "<table border=\"1\" class=\"dataframe\">\n",
       "  <thead>\n",
       "    <tr style=\"text-align: right;\">\n",
       "      <th></th>\n",
       "      <th>market_value</th>\n",
       "      <th>returns</th>\n",
       "    </tr>\n",
       "    <tr>\n",
       "      <th>date</th>\n",
       "      <th></th>\n",
       "      <th></th>\n",
       "    </tr>\n",
       "  </thead>\n",
       "  <tbody>\n",
       "    <tr>\n",
       "      <th>2013-04-08</th>\n",
       "      <td>6276.94</td>\n",
       "      <td>0.434736</td>\n",
       "    </tr>\n",
       "    <tr>\n",
       "      <th>2013-04-09</th>\n",
       "      <td>6313.20</td>\n",
       "      <td>0.577670</td>\n",
       "    </tr>\n",
       "    <tr>\n",
       "      <th>2013-04-10</th>\n",
       "      <td>6387.37</td>\n",
       "      <td>1.174840</td>\n",
       "    </tr>\n",
       "    <tr>\n",
       "      <th>2013-04-11</th>\n",
       "      <td>6416.14</td>\n",
       "      <td>0.450420</td>\n",
       "    </tr>\n",
       "    <tr>\n",
       "      <th>2013-04-12</th>\n",
       "      <td>6384.39</td>\n",
       "      <td>-0.494846</td>\n",
       "    </tr>\n",
       "  </tbody>\n",
       "</table>\n",
       "</div>"
      ],
      "text/plain": [
       "            market_value   returns\n",
       "date                              \n",
       "2013-04-08       6276.94  0.434736\n",
       "2013-04-09       6313.20  0.577670\n",
       "2013-04-10       6387.37  1.174840\n",
       "2013-04-11       6416.14  0.450420\n",
       "2013-04-12       6384.39 -0.494846"
      ]
     },
     "execution_count": 22,
     "metadata": {},
     "output_type": "execute_result"
    }
   ],
   "source": [
    "test.head()"
   ]
  },
  {
   "cell_type": "code",
   "execution_count": 26,
   "metadata": {},
   "outputs": [
    {
     "data": {
      "text/html": [
       "<table class=\"simpletable\">\n",
       "<caption>ARMA Model Results</caption>\n",
       "<tr>\n",
       "  <th>Dep. Variable:</th>      <td>returns</td>     <th>  No. Observations:  </th>   <td>5020</td>   \n",
       "</tr>\n",
       "<tr>\n",
       "  <th>Model:</th>            <td>ARMA(1, 0)</td>    <th>  Log Likelihood     </th> <td>-7929.749</td>\n",
       "</tr>\n",
       "<tr>\n",
       "  <th>Method:</th>             <td>css-mle</td>     <th>  S.D. of innovations</th>   <td>1.174</td>  \n",
       "</tr>\n",
       "<tr>\n",
       "  <th>Date:</th>          <td>Wed, 01 Apr 2020</td> <th>  AIC                </th> <td>15865.497</td>\n",
       "</tr>\n",
       "<tr>\n",
       "  <th>Time:</th>              <td>12:00:40</td>     <th>  BIC                </th> <td>15885.061</td>\n",
       "</tr>\n",
       "<tr>\n",
       "  <th>Sample:</th>           <td>01-10-1994</td>    <th>  HQIC               </th> <td>15872.353</td>\n",
       "</tr>\n",
       "<tr>\n",
       "  <th></th>                 <td>- 04-05-2013</td>   <th>                     </th>     <td> </td>    \n",
       "</tr>\n",
       "</table>\n",
       "<table class=\"simpletable\">\n",
       "<tr>\n",
       "        <td></td>           <th>coef</th>     <th>std err</th>      <th>z</th>      <th>P>|z|</th>  <th>[0.025</th>    <th>0.975]</th>  \n",
       "</tr>\n",
       "<tr>\n",
       "  <th>const</th>         <td>    0.0188</td> <td>    0.016</td> <td>    1.159</td> <td> 0.247</td> <td>   -0.013</td> <td>    0.051</td>\n",
       "</tr>\n",
       "<tr>\n",
       "  <th>ar.L1.returns</th> <td>   -0.0230</td> <td>    0.014</td> <td>   -1.631</td> <td> 0.103</td> <td>   -0.051</td> <td>    0.005</td>\n",
       "</tr>\n",
       "</table>\n",
       "<table class=\"simpletable\">\n",
       "<caption>Roots</caption>\n",
       "<tr>\n",
       "    <td></td>   <th>            Real</th>  <th>         Imaginary</th> <th>         Modulus</th>  <th>        Frequency</th>\n",
       "</tr>\n",
       "<tr>\n",
       "  <th>AR.1</th> <td>         -43.4386</td> <td>          +0.0000j</td> <td>          43.4386</td> <td>           0.5000</td>\n",
       "</tr>\n",
       "</table>"
      ],
      "text/plain": [
       "<class 'statsmodels.iolib.summary.Summary'>\n",
       "\"\"\"\n",
       "                              ARMA Model Results                              \n",
       "==============================================================================\n",
       "Dep. Variable:                returns   No. Observations:                 5020\n",
       "Model:                     ARMA(1, 0)   Log Likelihood               -7929.749\n",
       "Method:                       css-mle   S.D. of innovations              1.174\n",
       "Date:                Wed, 01 Apr 2020   AIC                          15865.497\n",
       "Time:                        12:00:40   BIC                          15885.061\n",
       "Sample:                    01-10-1994   HQIC                         15872.353\n",
       "                         - 04-05-2013                                         \n",
       "=================================================================================\n",
       "                    coef    std err          z      P>|z|      [0.025      0.975]\n",
       "---------------------------------------------------------------------------------\n",
       "const             0.0188      0.016      1.159      0.247      -0.013       0.051\n",
       "ar.L1.returns    -0.0230      0.014     -1.631      0.103      -0.051       0.005\n",
       "                                    Roots                                    \n",
       "=============================================================================\n",
       "                  Real          Imaginary           Modulus         Frequency\n",
       "-----------------------------------------------------------------------------\n",
       "AR.1          -43.4386           +0.0000j           43.4386            0.5000\n",
       "-----------------------------------------------------------------------------\n",
       "\"\"\""
      ]
     },
     "execution_count": 26,
     "metadata": {},
     "output_type": "execute_result"
    }
   ],
   "source": [
    "#model specifications\n",
    "model_ret_ar1 = ARMA(train.returns, order=(1,0))\n",
    "results_ret_ar1 = model_ret_ar1.fit()\n",
    "results_ret_ar1.summary()"
   ]
  },
  {
   "cell_type": "markdown",
   "metadata": {},
   "source": [
    "Notice the p-values are both greater than 0.05 so this model does not have real predictive power in explaining returns today. The more easily yesterday's price is affected by higher lags (further back days' prices), the less accurate the coefficient indicating the effect becomes (the effect of the prices is not significantly different from zero, so there is really no effect). We should then see if a higher lag model serves as a better predictor.\n",
    "\n",
    "### Higher lag Models \n",
    "Check if coefficients are better and run the LLR test to see which one is better"
   ]
  },
  {
   "cell_type": "code",
   "execution_count": 52,
   "metadata": {},
   "outputs": [
    {
     "name": "stdout",
     "output_type": "stream",
     "text": [
      "P-Value for LLR: 0.0\n",
      "**Results Summary for Higher Order Model**\n"
     ]
    },
    {
     "data": {
      "text/html": [
       "<table class=\"simpletable\">\n",
       "<caption>ARMA Model Results</caption>\n",
       "<tr>\n",
       "  <th>Dep. Variable:</th>      <td>returns</td>     <th>  No. Observations:  </th>   <td>5020</td>   \n",
       "</tr>\n",
       "<tr>\n",
       "  <th>Model:</th>            <td>ARMA(2, 0)</td>    <th>  Log Likelihood     </th> <td>-7923.456</td>\n",
       "</tr>\n",
       "<tr>\n",
       "  <th>Method:</th>             <td>css-mle</td>     <th>  S.D. of innovations</th>   <td>1.173</td>  \n",
       "</tr>\n",
       "<tr>\n",
       "  <th>Date:</th>          <td>Wed, 01 Apr 2020</td> <th>  AIC                </th> <td>15854.911</td>\n",
       "</tr>\n",
       "<tr>\n",
       "  <th>Time:</th>              <td>12:27:05</td>     <th>  BIC                </th> <td>15880.996</td>\n",
       "</tr>\n",
       "<tr>\n",
       "  <th>Sample:</th>           <td>01-10-1994</td>    <th>  HQIC               </th> <td>15864.052</td>\n",
       "</tr>\n",
       "<tr>\n",
       "  <th></th>                 <td>- 04-05-2013</td>   <th>                     </th>     <td> </td>    \n",
       "</tr>\n",
       "</table>\n",
       "<table class=\"simpletable\">\n",
       "<tr>\n",
       "        <td></td>           <th>coef</th>     <th>std err</th>      <th>z</th>      <th>P>|z|</th>  <th>[0.025</th>    <th>0.975]</th>  \n",
       "</tr>\n",
       "<tr>\n",
       "  <th>const</th>         <td>    0.0188</td> <td>    0.015</td> <td>    1.220</td> <td> 0.222</td> <td>   -0.011</td> <td>    0.049</td>\n",
       "</tr>\n",
       "<tr>\n",
       "  <th>ar.L1.returns</th> <td>   -0.0242</td> <td>    0.014</td> <td>   -1.716</td> <td> 0.086</td> <td>   -0.052</td> <td>    0.003</td>\n",
       "</tr>\n",
       "<tr>\n",
       "  <th>ar.L2.returns</th> <td>   -0.0500</td> <td>    0.014</td> <td>   -3.550</td> <td> 0.000</td> <td>   -0.078</td> <td>   -0.022</td>\n",
       "</tr>\n",
       "</table>\n",
       "<table class=\"simpletable\">\n",
       "<caption>Roots</caption>\n",
       "<tr>\n",
       "    <td></td>   <th>            Real</th>  <th>         Imaginary</th> <th>         Modulus</th>  <th>        Frequency</th>\n",
       "</tr>\n",
       "<tr>\n",
       "  <th>AR.1</th> <td>          -0.2417</td> <td>          -4.4635j</td> <td>           4.4701</td> <td>          -0.2586</td>\n",
       "</tr>\n",
       "<tr>\n",
       "  <th>AR.2</th> <td>          -0.2417</td> <td>          +4.4635j</td> <td>           4.4701</td> <td>           0.2586</td>\n",
       "</tr>\n",
       "</table>"
      ],
      "text/plain": [
       "<class 'statsmodels.iolib.summary.Summary'>\n",
       "\"\"\"\n",
       "                              ARMA Model Results                              \n",
       "==============================================================================\n",
       "Dep. Variable:                returns   No. Observations:                 5020\n",
       "Model:                     ARMA(2, 0)   Log Likelihood               -7923.456\n",
       "Method:                       css-mle   S.D. of innovations              1.173\n",
       "Date:                Wed, 01 Apr 2020   AIC                          15854.911\n",
       "Time:                        12:27:05   BIC                          15880.996\n",
       "Sample:                    01-10-1994   HQIC                         15864.052\n",
       "                         - 04-05-2013                                         \n",
       "=================================================================================\n",
       "                    coef    std err          z      P>|z|      [0.025      0.975]\n",
       "---------------------------------------------------------------------------------\n",
       "const             0.0188      0.015      1.220      0.222      -0.011       0.049\n",
       "ar.L1.returns    -0.0242      0.014     -1.716      0.086      -0.052       0.003\n",
       "ar.L2.returns    -0.0500      0.014     -3.550      0.000      -0.078      -0.022\n",
       "                                    Roots                                    \n",
       "=============================================================================\n",
       "                  Real          Imaginary           Modulus         Frequency\n",
       "-----------------------------------------------------------------------------\n",
       "AR.1           -0.2417           -4.4635j            4.4701           -0.2586\n",
       "AR.2           -0.2417           +4.4635j            4.4701            0.2586\n",
       "-----------------------------------------------------------------------------\n",
       "\"\"\""
      ]
     },
     "execution_count": 52,
     "metadata": {},
     "output_type": "execute_result"
    }
   ],
   "source": [
    "#model specifications\n",
    "model_ret_ar1 = ARMA(train.returns, order=(1,0))\n",
    "model_ret_ar2 = ARMA(train.returns, order=(2,0))\n",
    "LLR_test(model_ret_ar1, model_ret_ar2)"
   ]
  },
  {
   "cell_type": "markdown",
   "metadata": {},
   "source": [
    "**AR 2 Model** The constant is not significant, the AR 1 component is not significant, but the AR 2 one is significantly different from zero and should be included in the model. So the returns two days ago significantly impact/have some predictive power on the returns for today's prices. "
   ]
  },
  {
   "cell_type": "markdown",
   "metadata": {},
   "source": [
    "We conclude that **AR(2) > AR(1) model** because of the following checks:\n",
    "- p-value is significant for LLR test\n",
    "- the AR(2) component in its results summary is significant based on p-value\n",
    "- the information criteria (AIC, BIC, HQIC) in AR(2) are lower than those in AR(1) model\n",
    "- the log likelihood for AR(2) is higher than that in AR(1). Note for negative numbers, if it goes down that means it increased\n",
    "\n",
    "**Now lets try comparing AR(2) to AR(3) model**"
   ]
  },
  {
   "cell_type": "code",
   "execution_count": 56,
   "metadata": {},
   "outputs": [
    {
     "name": "stdout",
     "output_type": "stream",
     "text": [
      "P-Value for LLR: 0.0\n",
      "**Results Summary for Higher Order Model**\n"
     ]
    },
    {
     "data": {
      "text/html": [
       "<table class=\"simpletable\">\n",
       "<caption>ARMA Model Results</caption>\n",
       "<tr>\n",
       "  <th>Dep. Variable:</th>      <td>returns</td>     <th>  No. Observations:  </th>   <td>5020</td>   \n",
       "</tr>\n",
       "<tr>\n",
       "  <th>Model:</th>            <td>ARMA(3, 0)</td>    <th>  Log Likelihood     </th> <td>-7906.738</td>\n",
       "</tr>\n",
       "<tr>\n",
       "  <th>Method:</th>             <td>css-mle</td>     <th>  S.D. of innovations</th>   <td>1.169</td>  \n",
       "</tr>\n",
       "<tr>\n",
       "  <th>Date:</th>          <td>Wed, 01 Apr 2020</td> <th>  AIC                </th> <td>15823.477</td>\n",
       "</tr>\n",
       "<tr>\n",
       "  <th>Time:</th>              <td>12:27:44</td>     <th>  BIC                </th> <td>15856.083</td>\n",
       "</tr>\n",
       "<tr>\n",
       "  <th>Sample:</th>           <td>01-10-1994</td>    <th>  HQIC               </th> <td>15834.902</td>\n",
       "</tr>\n",
       "<tr>\n",
       "  <th></th>                 <td>- 04-05-2013</td>   <th>                     </th>     <td> </td>    \n",
       "</tr>\n",
       "</table>\n",
       "<table class=\"simpletable\">\n",
       "<tr>\n",
       "        <td></td>           <th>coef</th>     <th>std err</th>      <th>z</th>      <th>P>|z|</th>  <th>[0.025</th>    <th>0.975]</th>  \n",
       "</tr>\n",
       "<tr>\n",
       "  <th>const</th>         <td>    0.0189</td> <td>    0.014</td> <td>    1.330</td> <td> 0.184</td> <td>   -0.009</td> <td>    0.047</td>\n",
       "</tr>\n",
       "<tr>\n",
       "  <th>ar.L1.returns</th> <td>   -0.0283</td> <td>    0.014</td> <td>   -2.011</td> <td> 0.044</td> <td>   -0.056</td> <td>   -0.001</td>\n",
       "</tr>\n",
       "<tr>\n",
       "  <th>ar.L2.returns</th> <td>   -0.0521</td> <td>    0.014</td> <td>   -3.705</td> <td> 0.000</td> <td>   -0.080</td> <td>   -0.025</td>\n",
       "</tr>\n",
       "<tr>\n",
       "  <th>ar.L3.returns</th> <td>   -0.0815</td> <td>    0.014</td> <td>   -5.792</td> <td> 0.000</td> <td>   -0.109</td> <td>   -0.054</td>\n",
       "</tr>\n",
       "</table>\n",
       "<table class=\"simpletable\">\n",
       "<caption>Roots</caption>\n",
       "<tr>\n",
       "    <td></td>   <th>            Real</th>  <th>         Imaginary</th> <th>         Modulus</th>  <th>        Frequency</th>\n",
       "</tr>\n",
       "<tr>\n",
       "  <th>AR.1</th> <td>           0.9233</td> <td>          -2.0210j</td> <td>           2.2219</td> <td>          -0.1818</td>\n",
       "</tr>\n",
       "<tr>\n",
       "  <th>AR.2</th> <td>           0.9233</td> <td>          +2.0210j</td> <td>           2.2219</td> <td>           0.1818</td>\n",
       "</tr>\n",
       "<tr>\n",
       "  <th>AR.3</th> <td>          -2.4855</td> <td>          -0.0000j</td> <td>           2.4855</td> <td>          -0.5000</td>\n",
       "</tr>\n",
       "</table>"
      ],
      "text/plain": [
       "<class 'statsmodels.iolib.summary.Summary'>\n",
       "\"\"\"\n",
       "                              ARMA Model Results                              \n",
       "==============================================================================\n",
       "Dep. Variable:                returns   No. Observations:                 5020\n",
       "Model:                     ARMA(3, 0)   Log Likelihood               -7906.738\n",
       "Method:                       css-mle   S.D. of innovations              1.169\n",
       "Date:                Wed, 01 Apr 2020   AIC                          15823.477\n",
       "Time:                        12:27:44   BIC                          15856.083\n",
       "Sample:                    01-10-1994   HQIC                         15834.902\n",
       "                         - 04-05-2013                                         \n",
       "=================================================================================\n",
       "                    coef    std err          z      P>|z|      [0.025      0.975]\n",
       "---------------------------------------------------------------------------------\n",
       "const             0.0189      0.014      1.330      0.184      -0.009       0.047\n",
       "ar.L1.returns    -0.0283      0.014     -2.011      0.044      -0.056      -0.001\n",
       "ar.L2.returns    -0.0521      0.014     -3.705      0.000      -0.080      -0.025\n",
       "ar.L3.returns    -0.0815      0.014     -5.792      0.000      -0.109      -0.054\n",
       "                                    Roots                                    \n",
       "=============================================================================\n",
       "                  Real          Imaginary           Modulus         Frequency\n",
       "-----------------------------------------------------------------------------\n",
       "AR.1            0.9233           -2.0210j            2.2219           -0.1818\n",
       "AR.2            0.9233           +2.0210j            2.2219            0.1818\n",
       "AR.3           -2.4855           -0.0000j            2.4855           -0.5000\n",
       "-----------------------------------------------------------------------------\n",
       "\"\"\""
      ]
     },
     "execution_count": 56,
     "metadata": {},
     "output_type": "execute_result"
    }
   ],
   "source": [
    "#LLR_test\n",
    "model_ret_ar2 = ARMA(train.returns, order=(2,0))\n",
    "model_ret_ar3 = ARMA(train.returns, order=(3,0))\n",
    "LLR_test(model_ret_ar2, model_ret_ar3)"
   ]
  },
  {
   "cell_type": "markdown",
   "metadata": {},
   "source": [
    "Even better! Log likelihood went up, information criteria went down, and now all three AR components are significant (p <= 0.05). \n",
    "\n",
    "Here: We keep going until the constant is significant and then find where the LLR test fails and use the model before that one which fails.\n",
    "- IN DR. RIDDEL'S CLASS: We only care about the AR components being insignificant. We dont mind if the constant isnt significant because it will carry all the drift that is not accounted for in the model that we don;t want in the residual. I like this better. *See if you can find a consensus with Riddel*"
   ]
  },
  {
   "cell_type": "code",
   "execution_count": null,
   "metadata": {},
   "outputs": [],
   "source": []
  }
 ],
 "metadata": {
  "kernelspec": {
   "display_name": "Python 3",
   "language": "python",
   "name": "python3"
  },
  "language_info": {
   "codemirror_mode": {
    "name": "ipython",
    "version": 3
   },
   "file_extension": ".py",
   "mimetype": "text/x-python",
   "name": "python",
   "nbconvert_exporter": "python",
   "pygments_lexer": "ipython3",
   "version": "3.7.3"
  }
 },
 "nbformat": 4,
 "nbformat_minor": 2
}
