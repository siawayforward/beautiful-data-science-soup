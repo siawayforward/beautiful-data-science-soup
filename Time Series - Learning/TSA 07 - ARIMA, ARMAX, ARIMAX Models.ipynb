{
 "cells": [
  {
   "cell_type": "code",
   "execution_count": 1,
   "metadata": {},
   "outputs": [],
   "source": [
    "#modules and packages\n",
    "import math\n",
    "import pandas as pd\n",
    "import numpy as np\n",
    "import warnings\n",
    "import matplotlib.pyplot as plt\n",
    "import statsmodels.tsa.stattools as sts\n",
    "import statsmodels.graphics.tsaplots as sgt\n",
    "from statsmodels.tsa.arima_model import ARMA, ARIMA\n",
    "from statsmodels.tsa.seasonal import seasonal_decompose\n",
    "from scipy.stats.distributions import chi2\n",
    "BOLD = '\\033[1m'\n",
    "END = '\\033[0m'\n",
    "warnings.filterwarnings('ignore')"
   ]
  },
  {
   "cell_type": "code",
   "execution_count": 2,
   "metadata": {},
   "outputs": [],
   "source": [
    "#methods for LLR test\n",
    "def LLR_Test(mod_1, mod_2, DF=1, lags1=None,lags2=None):\n",
    "    res1 = mod_1.fit(start_ar_lags=lags1)\n",
    "    res2 = mod_2.fit(start_ar_lags=lags2)\n",
    "    LR = 2*(res2.llf - res1.llf)\n",
    "    val = 'P-Value for LLR: ' + str(chi2.sf(LR, DF).round(3))\n",
    "    return val\n",
    "\n",
    "#None nested ARMA model test\n",
    "def LLR_ARMA_Nonest(mod_1, mod_2, DF=1, lags1=None,lags2=None):\n",
    "    res1 = mod_1.fit(start_ar_lags=lags1)\n",
    "    res2 = mod_2.fit(start_ar_lags=lags2)\n",
    "    print('Higher Order Model Measures:')\n",
    "    print('LL =', res2.llf, '\\tAIC =', res2.aic)\n",
    "    print('Lower Order Model Measures:')\n",
    "    print('LL =', res1.llf, '\\tAIC =', res1.aic)\n",
    "    if res1.llf > res2.llf and res1.aic < res2.aic:\n",
    "        print(BOLD+'Lower order model > Higher order model'+END)\n",
    "    if res2.llf > res1.llf and res2.aic < res1.aic:\n",
    "        print(BOLD+'Higher order model > Lower order model'+END)\n",
    "\n",
    "#method for displaying ACF and PCF\n",
    "def ACF_and_PACF(series, title):\n",
    "    fig, (ax1, ax2) = plt.subplots(ncols = 2, figsize=(20,6))\n",
    "    sgt.plot_acf(series, lags = 40, zero=False, ax=ax1)\n",
    "    sgt.plot_pacf(series, lags = 40, zero=False, method = 'ols', ax=ax2)\n",
    "    ax1.title.set_text('ACF Plot for ' + title)\n",
    "    ax1.title.set_size(20)\n",
    "    ax2.title.set_size(20)\n",
    "    ax2.title.set_text('PACF Plot for ' + title)\n",
    "    plt.show()"
   ]
  },
  {
   "cell_type": "code",
   "execution_count": 3,
   "metadata": {},
   "outputs": [],
   "source": [
    "#add and prepare dataset\n",
    "raw = pd.read_csv('Index2018.csv')\n",
    "data = raw.copy()\n",
    "\n",
    "#date as index and set frequency\n",
    "data.date = pd.to_datetime(data.date, dayfirst=True)\n",
    "data.set_index('date', inplace=True)\n",
    "data = data.asfreq('b')\n",
    "data = data.fillna(method = 'ffill')\n",
    "\n",
    "#we are isolating FTSE to use and create additional columns\n",
    "data['market_value'] = data.ftse\n",
    "del data['ftse']\n",
    "data['returns'] = data.market_value.pct_change(1).mul(100)\n",
    "\n",
    "#split into train and test\n",
    "size = int(len(data)*0.8)\n",
    "train = data.iloc[:size]\n",
    "test = data.iloc[size:]"
   ]
  },
  {
   "cell_type": "markdown",
   "metadata": {},
   "source": [
    "### Adjusting ARMA Models for Non-stationary Data\n",
    "We use ARIMA models instead!!\n",
    "It accounts for non-seasonal differences in the data that we need to examine to establish stationarity in the data. \n",
    "I = Integrated. That means the number of times you difference the series to make it stationary.\n",
    "\n",
    "### Simple ARIMA(1,1,1) Model"
   ]
  },
  {
   "cell_type": "code",
   "execution_count": 4,
   "metadata": {},
   "outputs": [
    {
     "data": {
      "text/html": [
       "<table class=\"simpletable\">\n",
       "<caption>ARIMA Model Results</caption>\n",
       "<tr>\n",
       "  <th>Dep. Variable:</th>  <td>D.market_value</td>  <th>  No. Observations:  </th>    <td>5020</td>   \n",
       "</tr>\n",
       "<tr>\n",
       "  <th>Model:</th>          <td>ARIMA(1, 1, 1)</td>  <th>  Log Likelihood     </th> <td>-27603.666</td>\n",
       "</tr>\n",
       "<tr>\n",
       "  <th>Method:</th>             <td>css-mle</td>     <th>  S.D. of innovations</th>   <td>59.134</td>  \n",
       "</tr>\n",
       "<tr>\n",
       "  <th>Date:</th>          <td>Sat, 11 Apr 2020</td> <th>  AIC                </th>  <td>55215.333</td>\n",
       "</tr>\n",
       "<tr>\n",
       "  <th>Time:</th>              <td>18:03:59</td>     <th>  BIC                </th>  <td>55241.418</td>\n",
       "</tr>\n",
       "<tr>\n",
       "  <th>Sample:</th>           <td>01-10-1994</td>    <th>  HQIC               </th>  <td>55224.473</td>\n",
       "</tr>\n",
       "<tr>\n",
       "  <th></th>                 <td>- 04-05-2013</td>   <th>                     </th>      <td> </td>    \n",
       "</tr>\n",
       "</table>\n",
       "<table class=\"simpletable\">\n",
       "<tr>\n",
       "            <td></td>              <th>coef</th>     <th>std err</th>      <th>z</th>      <th>P>|z|</th>  <th>[0.025</th>    <th>0.975]</th>  \n",
       "</tr>\n",
       "<tr>\n",
       "  <th>const</th>                <td>    0.5657</td> <td>    0.682</td> <td>    0.829</td> <td> 0.407</td> <td>   -0.772</td> <td>    1.903</td>\n",
       "</tr>\n",
       "<tr>\n",
       "  <th>ar.L1.D.market_value</th> <td>    0.7475</td> <td>    0.070</td> <td>   10.652</td> <td> 0.000</td> <td>    0.610</td> <td>    0.885</td>\n",
       "</tr>\n",
       "<tr>\n",
       "  <th>ma.L1.D.market_value</th> <td>   -0.7936</td> <td>    0.064</td> <td>  -12.378</td> <td> 0.000</td> <td>   -0.919</td> <td>   -0.668</td>\n",
       "</tr>\n",
       "</table>\n",
       "<table class=\"simpletable\">\n",
       "<caption>Roots</caption>\n",
       "<tr>\n",
       "    <td></td>   <th>            Real</th>  <th>         Imaginary</th> <th>         Modulus</th>  <th>        Frequency</th>\n",
       "</tr>\n",
       "<tr>\n",
       "  <th>AR.1</th> <td>           1.3378</td> <td>          +0.0000j</td> <td>           1.3378</td> <td>           0.0000</td>\n",
       "</tr>\n",
       "<tr>\n",
       "  <th>MA.1</th> <td>           1.2601</td> <td>          +0.0000j</td> <td>           1.2601</td> <td>           0.0000</td>\n",
       "</tr>\n",
       "</table>"
      ],
      "text/plain": [
       "<class 'statsmodels.iolib.summary.Summary'>\n",
       "\"\"\"\n",
       "                             ARIMA Model Results                              \n",
       "==============================================================================\n",
       "Dep. Variable:         D.market_value   No. Observations:                 5020\n",
       "Model:                 ARIMA(1, 1, 1)   Log Likelihood              -27603.666\n",
       "Method:                       css-mle   S.D. of innovations             59.134\n",
       "Date:                Sat, 11 Apr 2020   AIC                          55215.333\n",
       "Time:                        18:03:59   BIC                          55241.418\n",
       "Sample:                    01-10-1994   HQIC                         55224.473\n",
       "                         - 04-05-2013                                         \n",
       "========================================================================================\n",
       "                           coef    std err          z      P>|z|      [0.025      0.975]\n",
       "----------------------------------------------------------------------------------------\n",
       "const                    0.5657      0.682      0.829      0.407      -0.772       1.903\n",
       "ar.L1.D.market_value     0.7475      0.070     10.652      0.000       0.610       0.885\n",
       "ma.L1.D.market_value    -0.7936      0.064    -12.378      0.000      -0.919      -0.668\n",
       "                                    Roots                                    \n",
       "=============================================================================\n",
       "                  Real          Imaginary           Modulus         Frequency\n",
       "-----------------------------------------------------------------------------\n",
       "AR.1            1.3378           +0.0000j            1.3378            0.0000\n",
       "MA.1            1.2601           +0.0000j            1.2601            0.0000\n",
       "-----------------------------------------------------------------------------\n",
       "\"\"\""
      ]
     },
     "execution_count": 4,
     "metadata": {},
     "output_type": "execute_result"
    }
   ],
   "source": [
    "model_ar1_1_ma1 = ARIMA(train.market_value, order=(1,1,1))\n",
    "model_ar1_1_ma1.fit().summary()"
   ]
  },
  {
   "cell_type": "markdown",
   "metadata": {},
   "source": [
    "Note, all coefficients are significant. This shows the integrated series is closer to returns than prices. Now we want to examine residuals to see if we are missing any components"
   ]
  },
  {
   "cell_type": "code",
   "execution_count": 5,
   "metadata": {},
   "outputs": [
    {
     "data": {
      "image/png": "[encoded data removed]",
      "text/plain": [
       "<Figure size 1440x432 with 2 Axes>"
      ]
     },
     "metadata": {
      "needs_background": "light"
     },
     "output_type": "display_data"
    }
   ],
   "source": [
    "ACF_and_PACF(model_ar1_1_ma1.fit().resid, 'ARIMA(1,1,1) Residuals')"
   ]
  },
  {
   "cell_type": "markdown",
   "metadata": {},
   "source": [
    "We see the third and forth lags are highly significant. From prior modeling, we found that the third and forth lags being included can significantly affect the optimality of our model. So let's examine higher order ARIMA models to see how we can improve this initial one. Adding up to 4 lags, there are only five models between ARIMA(1,1,1) and ARIMA(4,1,4) that had all significant coefficients\n",
    "\n",
    "### Higher Order ARIMA Models\n",
    "Models to explore from above because they have significant coefficients are:\n",
    "- ARIMA(1,1,2), ARIMA(1,1,3), ARIMA(2,1,1), ARIMA(3,1,1), ARIMA(3,1,2)\n",
    "- We need to define and fit these models so that we can compare their LL and AIC values to each other and that of the ARIMA(1,1,1) to determine the optimal one"
   ]
  },
  {
   "cell_type": "code",
   "execution_count": 6,
   "metadata": {},
   "outputs": [
    {
     "name": "stdout",
     "output_type": "stream",
     "text": [
      "ARIMA(1,1,1) vs. ARIMA(1,1,2)\n",
      "Higher Order Model Measures:\n",
      "LL = -27600.08186312018 \tAIC = 55210.16372624036\n",
      "Lower Order Model Measures:\n",
      "LL = -27603.666412801424 \tAIC = 55215.33282560285\n",
      "\u001b[1mHigher order model > Lower order model\u001b[0m\n",
      "\n",
      "ARIMA(1,1,1) vs. ARIMA(1,1,3)\n",
      "Higher Order Model Measures:\n",
      "LL = -27590.424032560222 \tAIC = 55192.848065120445\n",
      "Lower Order Model Measures:\n",
      "LL = -27603.666412801424 \tAIC = 55215.33282560285\n",
      "\u001b[1mHigher order model > Lower order model\u001b[0m\n",
      "\n",
      "ARIMA(1,1,1) vs. ARIMA(2,1,1)\n",
      "Higher Order Model Measures:\n",
      "LL = -27599.807487847476 \tAIC = 55209.61497569495\n",
      "Lower Order Model Measures:\n",
      "LL = -27603.666412801424 \tAIC = 55215.33282560285\n",
      "\u001b[1mHigher order model > Lower order model\u001b[0m\n",
      "\n",
      "ARIMA(1,1,1) vs. ARIMA(3,1,1)\n",
      "Higher Order Model Measures:\n",
      "LL = -27592.055371698458 \tAIC = 55196.110743396915\n",
      "Lower Order Model Measures:\n",
      "LL = -27603.666412801424 \tAIC = 55215.33282560285\n",
      "\u001b[1mHigher order model > Lower order model\u001b[0m\n",
      "\n",
      "ARIMA(1,1,1) vs. ARIMA(3,1,2)\n",
      "Higher Order Model Measures:\n",
      "LL = -27590.66080897039 \tAIC = 55195.32161794078\n",
      "Lower Order Model Measures:\n",
      "LL = -27603.666412801424 \tAIC = 55215.33282560285\n",
      "\u001b[1mHigher order model > Lower order model\u001b[0m\n"
     ]
    }
   ],
   "source": [
    "#models\n",
    "print('ARIMA(1,1,1) vs. ARIMA(1,1,2)')\n",
    "model_ar1_1_ma2 = ARIMA(train.market_value, order=(1,1,2))\n",
    "LLR_ARMA_Nonest(model_ar1_1_ma1, model_ar1_1_ma2)\n",
    "print()\n",
    "print('ARIMA(1,1,1) vs. ARIMA(1,1,3)')\n",
    "model_ar1_1_ma3 = ARIMA(train.market_value, order=(1,1,3))\n",
    "LLR_ARMA_Nonest(model_ar1_1_ma1, model_ar1_1_ma3)\n",
    "print()\n",
    "print('ARIMA(1,1,1) vs. ARIMA(2,1,1)')\n",
    "model_ar2_1_ma1 = ARIMA(train.market_value, order=(2,1,1))\n",
    "LLR_ARMA_Nonest(model_ar1_1_ma1, model_ar2_1_ma1)\n",
    "print()\n",
    "print('ARIMA(1,1,1) vs. ARIMA(3,1,1)')\n",
    "model_ar3_1_ma1 = ARIMA(train.market_value, order=(3,1,1))\n",
    "LLR_ARMA_Nonest(model_ar1_1_ma1, model_ar3_1_ma1)\n",
    "print()\n",
    "print('ARIMA(1,1,1) vs. ARIMA(3,1,2)')\n",
    "model_ar3_1_ma2 = ARIMA(train.market_value, order=(3,1,2))\n",
    "LLR_ARMA_Nonest(model_ar1_1_ma1, model_ar3_1_ma2, lags2=5)"
   ]
  },
  {
   "cell_type": "markdown",
   "metadata": {},
   "source": [
    "From the above, the ARIMA(1,1,3) has the lowest AIC and highest LL of all the winning models. Given this, it becomes our frontrunner for the optimal model. We however note that it is nested with the ARIMA(1,1,1) and ARIMA(1,1,2) models, so we need to run the LLR test to make sure it significantly outperforms them if it is going to stand as the optimal model."
   ]
  },
  {
   "cell_type": "code",
   "execution_count": 7,
   "metadata": {},
   "outputs": [
    {
     "data": {
      "text/plain": [
       "'P-Value for LLR: 0.0'"
      ]
     },
     "execution_count": 7,
     "metadata": {},
     "output_type": "execute_result"
    }
   ],
   "source": [
    "LLR_Test(model_ar1_1_ma2,model_ar1_1_ma3)"
   ]
  },
  {
   "cell_type": "code",
   "execution_count": 8,
   "metadata": {},
   "outputs": [
    {
     "data": {
      "text/plain": [
       "'P-Value for LLR: 0.0'"
      ]
     },
     "execution_count": 8,
     "metadata": {},
     "output_type": "execute_result"
    }
   ],
   "source": [
    "LLR_Test(model_ar1_1_ma1,model_ar1_1_ma3)"
   ]
  },
  {
   "cell_type": "markdown",
   "metadata": {},
   "source": [
    "The ARIMA(1,1,3) passes the test and for now is our optimal model. We then go back to the residuals to see if we can improve this model further."
   ]
  },
  {
   "cell_type": "code",
   "execution_count": 9,
   "metadata": {},
   "outputs": [
    {
     "data": {
      "image/png": "[encoded data removed]",
      "text/plain": [
       "<Figure size 1440x432 with 2 Axes>"
      ]
     },
     "metadata": {
      "needs_background": "light"
     },
     "output_type": "display_data"
    }
   ],
   "source": [
    "ACF_and_PACF(model_ar1_1_ma3.fit().resid, 'Residuals for ARIMA(1,1,3) Model')"
   ]
  },
  {
   "cell_type": "markdown",
   "metadata": {},
   "source": [
    "ACF Review: Fewer lags have significance, but the sixth lag is significant and so we want to see if there is another model that is better between ARIMA(1,1,1) and ARIMA(6,1,6). After going through these models, you should find that the only ones with all significant coefficients are ARIMA(6,1,3) and ARIMA(5,1,1). We then compute these and compare them to the ARIMA(1,1,3) that was previously chosen as our optimal model."
   ]
  },
  {
   "cell_type": "code",
   "execution_count": 10,
   "metadata": {},
   "outputs": [],
   "source": [
    "def display_comps(mod1, name1):\n",
    "    print(name1, 'LL=', mod1.fit().llf, '\\tAIC=', mod1.fit().aic)"
   ]
  },
  {
   "cell_type": "code",
   "execution_count": 11,
   "metadata": {},
   "outputs": [
    {
     "name": "stdout",
     "output_type": "stream",
     "text": [
      "ARIMA(1,1,3) Model: LL= -27590.424032560222 \tAIC= 55192.848065120445\n",
      "ARIMA(5,1,1) Model: LL= -27586.511888122284 \tAIC= 55189.02377624457\n",
      "ARIMA(6,1,3) Model: LL= -27581.45547815983 \tAIC= 55184.91095631966\n"
     ]
    }
   ],
   "source": [
    "#models\n",
    "model_ar1_1_ma3 = ARIMA(train.market_value, order=(1,1,3))\n",
    "model_ar5_1_ma1 = ARIMA(train.market_value, order=(5,1,1))\n",
    "model_ar6_1_ma3 = ARIMA(train.market_value, order=(6,1,3))\n",
    "\n",
    "#Show measures\n",
    "display_comps(model_ar1_1_ma3, 'ARIMA(1,1,3) Model:')\n",
    "display_comps(model_ar5_1_ma1, 'ARIMA(5,1,1) Model:')\n",
    "display_comps(model_ar6_1_ma3, 'ARIMA(6,1,3) Model:')"
   ]
  },
  {
   "cell_type": "code",
   "execution_count": 12,
   "metadata": {},
   "outputs": [
    {
     "name": "stdout",
     "output_type": "stream",
     "text": [
      "ARIMA(1,1,3) vs. ARIMA(6,1,3): P-Value for LLR: 0.018\n"
     ]
    }
   ],
   "source": [
    "#Nested model = LLR test\n",
    "print('ARIMA(1,1,3) vs. ARIMA(6,1,3):', LLR_Test(model_ar1_1_ma3, model_ar6_1_ma3, DF=5, lags2=11))\n",
    "#didnt get an error so I dont know why we use 11 start lags. Same as below"
   ]
  },
  {
   "cell_type": "code",
   "execution_count": 13,
   "metadata": {},
   "outputs": [
    {
     "name": "stdout",
     "output_type": "stream",
     "text": [
      "ARIMA(5,1,1) vs. ARIMA(6,1,3): P-Value for LLR: 0.018\n"
     ]
    }
   ],
   "source": [
    "#Nested model = LLR test\n",
    "print('ARIMA(5,1,1) vs. ARIMA(6,1,3):', LLR_Test(model_ar5_1_ma1, model_ar6_1_ma3, DF=3))"
   ]
  },
  {
   "cell_type": "code",
   "execution_count": 14,
   "metadata": {},
   "outputs": [
    {
     "name": "stdout",
     "output_type": "stream",
     "text": [
      "ARIMA(1,1,3) vs. ARIMA(5,1,1):\n",
      "Higher Order Model Measures:\n",
      "LL = -27586.511888122284 \tAIC = 55189.02377624457\n",
      "Lower Order Model Measures:\n",
      "LL = -27590.424032560222 \tAIC = 55192.848065120445\n",
      "\u001b[1mHigher order model > Lower order model\u001b[0m\n"
     ]
    }
   ],
   "source": [
    "#No nested model here = No nested test\n",
    "print('ARIMA(1,1,3) vs. ARIMA(5,1,1):')\n",
    "LLR_ARMA_Nonest(model_ar1_1_ma3, model_ar5_1_ma1)"
   ]
  },
  {
   "cell_type": "markdown",
   "metadata": {},
   "source": [
    "So we learn that ARIMA(6,1,3) > ARIMA(5,1,1) > ARIMA(1,1,3) when we just look at LL and AIC. However, we can use the LLR to compare the higher order model to the other two. When this happens, the LLR test says that ARIMA(6,1,3) model does not significantly yield a higher likelihood compared to the ARIMA(5,1,1) model. Given this, **our new optimal is the ARIMA(5,1,1) model**."
   ]
  },
  {
   "cell_type": "code",
   "execution_count": 15,
   "metadata": {},
   "outputs": [
    {
     "data": {
      "text/html": [
       "<table class=\"simpletable\">\n",
       "<caption>ARIMA Model Results</caption>\n",
       "<tr>\n",
       "  <th>Dep. Variable:</th>  <td>D.market_value</td>  <th>  No. Observations:  </th>    <td>5020</td>   \n",
       "</tr>\n",
       "<tr>\n",
       "  <th>Model:</th>          <td>ARIMA(5, 1, 1)</td>  <th>  Log Likelihood     </th> <td>-27586.512</td>\n",
       "</tr>\n",
       "<tr>\n",
       "  <th>Method:</th>             <td>css-mle</td>     <th>  S.D. of innovations</th>   <td>58.932</td>  \n",
       "</tr>\n",
       "<tr>\n",
       "  <th>Date:</th>          <td>Sat, 11 Apr 2020</td> <th>  AIC                </th>  <td>55189.024</td>\n",
       "</tr>\n",
       "<tr>\n",
       "  <th>Time:</th>              <td>18:06:07</td>     <th>  BIC                </th>  <td>55241.193</td>\n",
       "</tr>\n",
       "<tr>\n",
       "  <th>Sample:</th>           <td>01-10-1994</td>    <th>  HQIC               </th>  <td>55207.305</td>\n",
       "</tr>\n",
       "<tr>\n",
       "  <th></th>                 <td>- 04-05-2013</td>   <th>                     </th>      <td> </td>    \n",
       "</tr>\n",
       "</table>\n",
       "<table class=\"simpletable\">\n",
       "<tr>\n",
       "            <td></td>              <th>coef</th>     <th>std err</th>      <th>z</th>      <th>P>|z|</th>  <th>[0.025</th>    <th>0.975]</th>  \n",
       "</tr>\n",
       "<tr>\n",
       "  <th>const</th>                <td>    0.5661</td> <td>    0.690</td> <td>    0.820</td> <td> 0.412</td> <td>   -0.787</td> <td>    1.919</td>\n",
       "</tr>\n",
       "<tr>\n",
       "  <th>ar.L1.D.market_value</th> <td>    0.4011</td> <td>    0.159</td> <td>    2.529</td> <td> 0.011</td> <td>    0.090</td> <td>    0.712</td>\n",
       "</tr>\n",
       "<tr>\n",
       "  <th>ar.L2.D.market_value</th> <td>   -0.0445</td> <td>    0.016</td> <td>   -2.856</td> <td> 0.004</td> <td>   -0.075</td> <td>   -0.014</td>\n",
       "</tr>\n",
       "<tr>\n",
       "  <th>ar.L3.D.market_value</th> <td>   -0.0543</td> <td>    0.017</td> <td>   -3.163</td> <td> 0.002</td> <td>   -0.088</td> <td>   -0.021</td>\n",
       "</tr>\n",
       "<tr>\n",
       "  <th>ar.L4.D.market_value</th> <td>    0.0586</td> <td>    0.019</td> <td>    3.069</td> <td> 0.002</td> <td>    0.021</td> <td>    0.096</td>\n",
       "</tr>\n",
       "<tr>\n",
       "  <th>ar.L5.D.market_value</th> <td>   -0.0581</td> <td>    0.014</td> <td>   -4.118</td> <td> 0.000</td> <td>   -0.086</td> <td>   -0.030</td>\n",
       "</tr>\n",
       "<tr>\n",
       "  <th>ma.L1.D.market_value</th> <td>   -0.4213</td> <td>    0.158</td> <td>   -2.659</td> <td> 0.008</td> <td>   -0.732</td> <td>   -0.111</td>\n",
       "</tr>\n",
       "</table>\n",
       "<table class=\"simpletable\">\n",
       "<caption>Roots</caption>\n",
       "<tr>\n",
       "    <td></td>   <th>            Real</th>  <th>         Imaginary</th> <th>         Modulus</th>  <th>        Frequency</th>\n",
       "</tr>\n",
       "<tr>\n",
       "  <th>AR.1</th> <td>          -1.7609</td> <td>          -0.0000j</td> <td>           1.7609</td> <td>          -0.5000</td>\n",
       "</tr>\n",
       "<tr>\n",
       "  <th>AR.2</th> <td>           1.4633</td> <td>          -0.8605j</td> <td>           1.6975</td> <td>          -0.0846</td>\n",
       "</tr>\n",
       "<tr>\n",
       "  <th>AR.3</th> <td>           1.4633</td> <td>          +0.8605j</td> <td>           1.6975</td> <td>           0.0846</td>\n",
       "</tr>\n",
       "<tr>\n",
       "  <th>AR.4</th> <td>          -0.0790</td> <td>          -1.8393j</td> <td>           1.8410</td> <td>          -0.2568</td>\n",
       "</tr>\n",
       "<tr>\n",
       "  <th>AR.5</th> <td>          -0.0790</td> <td>          +1.8393j</td> <td>           1.8410</td> <td>           0.2568</td>\n",
       "</tr>\n",
       "<tr>\n",
       "  <th>MA.1</th> <td>           2.3734</td> <td>          +0.0000j</td> <td>           2.3734</td> <td>           0.0000</td>\n",
       "</tr>\n",
       "</table>"
      ],
      "text/plain": [
       "<class 'statsmodels.iolib.summary.Summary'>\n",
       "\"\"\"\n",
       "                             ARIMA Model Results                              \n",
       "==============================================================================\n",
       "Dep. Variable:         D.market_value   No. Observations:                 5020\n",
       "Model:                 ARIMA(5, 1, 1)   Log Likelihood              -27586.512\n",
       "Method:                       css-mle   S.D. of innovations             58.932\n",
       "Date:                Sat, 11 Apr 2020   AIC                          55189.024\n",
       "Time:                        18:06:07   BIC                          55241.193\n",
       "Sample:                    01-10-1994   HQIC                         55207.305\n",
       "                         - 04-05-2013                                         \n",
       "========================================================================================\n",
       "                           coef    std err          z      P>|z|      [0.025      0.975]\n",
       "----------------------------------------------------------------------------------------\n",
       "const                    0.5661      0.690      0.820      0.412      -0.787       1.919\n",
       "ar.L1.D.market_value     0.4011      0.159      2.529      0.011       0.090       0.712\n",
       "ar.L2.D.market_value    -0.0445      0.016     -2.856      0.004      -0.075      -0.014\n",
       "ar.L3.D.market_value    -0.0543      0.017     -3.163      0.002      -0.088      -0.021\n",
       "ar.L4.D.market_value     0.0586      0.019      3.069      0.002       0.021       0.096\n",
       "ar.L5.D.market_value    -0.0581      0.014     -4.118      0.000      -0.086      -0.030\n",
       "ma.L1.D.market_value    -0.4213      0.158     -2.659      0.008      -0.732      -0.111\n",
       "                                    Roots                                    \n",
       "=============================================================================\n",
       "                  Real          Imaginary           Modulus         Frequency\n",
       "-----------------------------------------------------------------------------\n",
       "AR.1           -1.7609           -0.0000j            1.7609           -0.5000\n",
       "AR.2            1.4633           -0.8605j            1.6975           -0.0846\n",
       "AR.3            1.4633           +0.8605j            1.6975            0.0846\n",
       "AR.4           -0.0790           -1.8393j            1.8410           -0.2568\n",
       "AR.5           -0.0790           +1.8393j            1.8410            0.2568\n",
       "MA.1            2.3734           +0.0000j            2.3734            0.0000\n",
       "-----------------------------------------------------------------------------\n",
       "\"\"\""
      ]
     },
     "execution_count": 15,
     "metadata": {},
     "output_type": "execute_result"
    }
   ],
   "source": [
    "model_ar5_1_ma1.fit().summary()"
   ]
  },
  {
   "cell_type": "code",
   "execution_count": 16,
   "metadata": {},
   "outputs": [
    {
     "data": {
      "image/png": "[encoded data removed]",
      "text/plain": [
       "<Figure size 1440x432 with 2 Axes>"
      ]
     },
     "metadata": {
      "needs_background": "light"
     },
     "output_type": "display_data"
    }
   ],
   "source": [
    "ACF_and_PACF(model_ar5_1_ma1.fit().resid, 'ARIMA(5,1,1) Model')"
   ]
  },
  {
   "cell_type": "markdown",
   "metadata": {},
   "source": [
    "Although there are other lags which are significant up to the 35th lag, most of the initial ones are insignificant and randomly appearing. Because we want to avoid overfitting, we don't want to have a 35 lag model because we should be able to use this model on other data.\n",
    "\n",
    "### Models with Higher Levels of Integration\n",
    "Note: we only rely on integration to make data stationary. So if our series becomes stationary, we dont need to integrate further. Example below comparing differenced series ADF test vs. no differencing"
   ]
  },
  {
   "cell_type": "code",
   "execution_count": 17,
   "metadata": {},
   "outputs": [],
   "source": [
    "train['delta_prices'] = train.market_value.diff(1)"
   ]
  },
  {
   "cell_type": "code",
   "execution_count": 18,
   "metadata": {},
   "outputs": [
    {
     "data": {
      "text/plain": [
       "(-32.24409349570747,\n",
       " 0.0,\n",
       " 5,\n",
       " 5014,\n",
       " {'1%': -3.4316548765428174,\n",
       "  '5%': -2.8621166146845334,\n",
       "  '10%': -2.5670769326348926},\n",
       " 54845.96104221891)"
      ]
     },
     "execution_count": 18,
     "metadata": {},
     "output_type": "execute_result"
    }
   ],
   "source": [
    "model_d_ar1_1_ma1 = ARIMA(train.delta_prices[1:], order=(1,0,1))\n",
    "sts.adfuller(train.delta_prices[1:])"
   ]
  },
  {
   "cell_type": "markdown",
   "metadata": {},
   "source": [
    "Looks like from the p-value above, the series is stationary so we dont intergrate further! We avoid using ARIMA models with stationary data because:\n",
    "- It is computationally expensive => the more layers, the more the machine has to work before fitting the data\n",
    "- More differencing => losing data points which causes our model to suffer\n",
    "- The more differencing, the smaller the margin of error => the harder it is to fit an accurate model which causes numerical instability with computations\n",
    "- The more layers we add, the harder it is to interpret the results. The simpler the better to extract useful insights\n",
    "\n",
    "## AR(I)MAX Models\n",
    "ARIMA/ARMA models where we have an additional variable of interest which is exogenous. It is denoted by X and also has a coefficient within the model. It can stand for one variable or a collection of variables that affect the time series observation of interest. To be included in the model, the variable has to be of interest as it pertains to the time series AND must be available for all time periods observed.\n",
    "- Python method to show this is by adding exog (Array of values) to the ARMA/ARIMA model argument"
   ]
  },
  {
   "cell_type": "code",
   "execution_count": 19,
   "metadata": {},
   "outputs": [
    {
     "data": {
      "text/html": [
       "<table class=\"simpletable\">\n",
       "<caption>ARIMA Model Results</caption>\n",
       "<tr>\n",
       "  <th>Dep. Variable:</th>  <td>D.market_value</td>  <th>  No. Observations:  </th>    <td>5020</td>   \n",
       "</tr>\n",
       "<tr>\n",
       "  <th>Model:</th>          <td>ARIMA(1, 1, 1)</td>  <th>  Log Likelihood     </th> <td>-27603.556</td>\n",
       "</tr>\n",
       "<tr>\n",
       "  <th>Method:</th>             <td>css-mle</td>     <th>  S.D. of innovations</th>   <td>59.132</td>  \n",
       "</tr>\n",
       "<tr>\n",
       "  <th>Date:</th>          <td>Sat, 11 Apr 2020</td> <th>  AIC                </th>  <td>55217.112</td>\n",
       "</tr>\n",
       "<tr>\n",
       "  <th>Time:</th>              <td>18:06:15</td>     <th>  BIC                </th>  <td>55249.718</td>\n",
       "</tr>\n",
       "<tr>\n",
       "  <th>Sample:</th>           <td>01-10-1994</td>    <th>  HQIC               </th>  <td>55228.538</td>\n",
       "</tr>\n",
       "<tr>\n",
       "  <th></th>                 <td>- 04-05-2013</td>   <th>                     </th>      <td> </td>    \n",
       "</tr>\n",
       "</table>\n",
       "<table class=\"simpletable\">\n",
       "<tr>\n",
       "            <td></td>              <th>coef</th>     <th>std err</th>      <th>z</th>      <th>P>|z|</th>  <th>[0.025</th>    <th>0.975]</th>  \n",
       "</tr>\n",
       "<tr>\n",
       "  <th>const</th>                <td>   -0.5868</td> <td>    2.655</td> <td>   -0.221</td> <td> 0.825</td> <td>   -5.791</td> <td>    4.618</td>\n",
       "</tr>\n",
       "<tr>\n",
       "  <th>spx</th>                  <td>    0.0011</td> <td>    0.002</td> <td>    0.450</td> <td> 0.652</td> <td>   -0.004</td> <td>    0.006</td>\n",
       "</tr>\n",
       "<tr>\n",
       "  <th>ar.L1.D.market_value</th> <td>    0.7456</td> <td>    0.070</td> <td>   10.577</td> <td> 0.000</td> <td>    0.607</td> <td>    0.884</td>\n",
       "</tr>\n",
       "<tr>\n",
       "  <th>ma.L1.D.market_value</th> <td>   -0.7916</td> <td>    0.065</td> <td>  -12.272</td> <td> 0.000</td> <td>   -0.918</td> <td>   -0.665</td>\n",
       "</tr>\n",
       "</table>\n",
       "<table class=\"simpletable\">\n",
       "<caption>Roots</caption>\n",
       "<tr>\n",
       "    <td></td>   <th>            Real</th>  <th>         Imaginary</th> <th>         Modulus</th>  <th>        Frequency</th>\n",
       "</tr>\n",
       "<tr>\n",
       "  <th>AR.1</th> <td>           1.3412</td> <td>          +0.0000j</td> <td>           1.3412</td> <td>           0.0000</td>\n",
       "</tr>\n",
       "<tr>\n",
       "  <th>MA.1</th> <td>           1.2632</td> <td>          +0.0000j</td> <td>           1.2632</td> <td>           0.0000</td>\n",
       "</tr>\n",
       "</table>"
      ],
      "text/plain": [
       "<class 'statsmodels.iolib.summary.Summary'>\n",
       "\"\"\"\n",
       "                             ARIMA Model Results                              \n",
       "==============================================================================\n",
       "Dep. Variable:         D.market_value   No. Observations:                 5020\n",
       "Model:                 ARIMA(1, 1, 1)   Log Likelihood              -27603.556\n",
       "Method:                       css-mle   S.D. of innovations             59.132\n",
       "Date:                Sat, 11 Apr 2020   AIC                          55217.112\n",
       "Time:                        18:06:15   BIC                          55249.718\n",
       "Sample:                    01-10-1994   HQIC                         55228.538\n",
       "                         - 04-05-2013                                         \n",
       "========================================================================================\n",
       "                           coef    std err          z      P>|z|      [0.025      0.975]\n",
       "----------------------------------------------------------------------------------------\n",
       "const                   -0.5868      2.655     -0.221      0.825      -5.791       4.618\n",
       "spx                      0.0011      0.002      0.450      0.652      -0.004       0.006\n",
       "ar.L1.D.market_value     0.7456      0.070     10.577      0.000       0.607       0.884\n",
       "ma.L1.D.market_value    -0.7916      0.065    -12.272      0.000      -0.918      -0.665\n",
       "                                    Roots                                    \n",
       "=============================================================================\n",
       "                  Real          Imaginary           Modulus         Frequency\n",
       "-----------------------------------------------------------------------------\n",
       "AR.1            1.3412           +0.0000j            1.3412            0.0000\n",
       "MA.1            1.2632           +0.0000j            1.2632            0.0000\n",
       "-----------------------------------------------------------------------------\n",
       "\"\"\""
      ]
     },
     "execution_count": 19,
     "metadata": {},
     "output_type": "execute_result"
    }
   ],
   "source": [
    "#ARIMAX with spx\n",
    "model_ar1_1_ma1_Xspx = ARIMA(train.market_value, exog = train.spx, order=(1,1,1))\n",
    "model_ar1_1_ma1_Xspx.fit().summary()"
   ]
  },
  {
   "cell_type": "markdown",
   "metadata": {},
   "source": [
    "## Seasonal Model - SAR(I)MA(X) Model\n",
    "Seasonally adjusted ARMA, ARIMA, ARIMAX models\n",
    "ARIMAX(p,d,q)\n",
    "SARIMAX(p,d,q)(P,D,Q,s)  \n",
    "where s = the number of seasons/periods needed to pass before the tendency reappears. E.g. 12 months/1 year need to pass each year for Christmas to reappear. If s=1, then there is no seasonality because 1/1 periods pass before the tendency reappears"
   ]
  },
  {
   "cell_type": "code",
   "execution_count": 20,
   "metadata": {},
   "outputs": [],
   "source": [
    "from statsmodels.tsa.statespace.sarimax import SARIMAX"
   ]
  },
  {
   "cell_type": "code",
   "execution_count": 21,
   "metadata": {},
   "outputs": [
    {
     "data": {
      "text/html": [
       "<table class=\"simpletable\">\n",
       "<caption>SARIMAX Results</caption>\n",
       "<tr>\n",
       "  <th>Dep. Variable:</th>           <td>market_value</td>          <th>  No. Observations:  </th>    <td>5021</td>   \n",
       "</tr>\n",
       "<tr>\n",
       "  <th>Model:</th>           <td>SARIMAX(1, 0, 1)x(2, 0, 1, 5)</td> <th>  Log Likelihood     </th> <td>-26712.819</td>\n",
       "</tr>\n",
       "<tr>\n",
       "  <th>Date:</th>                  <td>Sat, 11 Apr 2020</td>        <th>  AIC                </th>  <td>53439.637</td>\n",
       "</tr>\n",
       "<tr>\n",
       "  <th>Time:</th>                      <td>18:06:46</td>            <th>  BIC                </th>  <td>53485.287</td>\n",
       "</tr>\n",
       "<tr>\n",
       "  <th>Sample:</th>                   <td>01-07-1994</td>           <th>  HQIC               </th>  <td>53455.633</td>\n",
       "</tr>\n",
       "<tr>\n",
       "  <th></th>                         <td>- 04-05-2013</td>          <th>                     </th>      <td> </td>    \n",
       "</tr>\n",
       "<tr>\n",
       "  <th>Covariance Type:</th>              <td>opg</td>              <th>                     </th>      <td> </td>    \n",
       "</tr>\n",
       "</table>\n",
       "<table class=\"simpletable\">\n",
       "<tr>\n",
       "      <td></td>        <th>coef</th>     <th>std err</th>      <th>z</th>      <th>P>|z|</th>  <th>[0.025</th>    <th>0.975]</th>  \n",
       "</tr>\n",
       "<tr>\n",
       "  <th>spx</th>      <td>    2.7026</td> <td>    0.035</td> <td>   76.264</td> <td> 0.000</td> <td>    2.633</td> <td>    2.772</td>\n",
       "</tr>\n",
       "<tr>\n",
       "  <th>ar.L1</th>    <td>    0.9998</td> <td>    0.001</td> <td> 1880.773</td> <td> 0.000</td> <td>    0.999</td> <td>    1.001</td>\n",
       "</tr>\n",
       "<tr>\n",
       "  <th>ma.L1</th>    <td>   -0.3099</td> <td>    0.010</td> <td>  -32.582</td> <td> 0.000</td> <td>   -0.329</td> <td>   -0.291</td>\n",
       "</tr>\n",
       "<tr>\n",
       "  <th>ar.S.L5</th>  <td>    0.9651</td> <td>    0.011</td> <td>   87.146</td> <td> 0.000</td> <td>    0.943</td> <td>    0.987</td>\n",
       "</tr>\n",
       "<tr>\n",
       "  <th>ar.S.L10</th> <td>    0.0344</td> <td>    0.010</td> <td>    3.322</td> <td> 0.001</td> <td>    0.014</td> <td>    0.055</td>\n",
       "</tr>\n",
       "<tr>\n",
       "  <th>ma.S.L5</th>  <td>   -0.9984</td> <td>    0.005</td> <td> -190.360</td> <td> 0.000</td> <td>   -1.009</td> <td>   -0.988</td>\n",
       "</tr>\n",
       "<tr>\n",
       "  <th>sigma2</th>   <td> 2442.4865</td> <td>   28.586</td> <td>   85.443</td> <td> 0.000</td> <td> 2386.459</td> <td> 2498.514</td>\n",
       "</tr>\n",
       "</table>\n",
       "<table class=\"simpletable\">\n",
       "<tr>\n",
       "  <th>Ljung-Box (Q):</th>          <td>95.41</td> <th>  Jarque-Bera (JB):  </th> <td>4213.92</td>\n",
       "</tr>\n",
       "<tr>\n",
       "  <th>Prob(Q):</th>                <td>0.00</td>  <th>  Prob(JB):          </th>  <td>0.00</td>  \n",
       "</tr>\n",
       "<tr>\n",
       "  <th>Heteroskedasticity (H):</th> <td>1.24</td>  <th>  Skew:              </th>  <td>-0.52</td> \n",
       "</tr>\n",
       "<tr>\n",
       "  <th>Prob(H) (two-sided):</th>    <td>0.00</td>  <th>  Kurtosis:          </th>  <td>7.37</td>  \n",
       "</tr>\n",
       "</table><br/><br/>Warnings:<br/>[1] Covariance matrix calculated using the outer product of gradients (complex-step)."
      ],
      "text/plain": [
       "<class 'statsmodels.iolib.summary.Summary'>\n",
       "\"\"\"\n",
       "                                     SARIMAX Results                                     \n",
       "=========================================================================================\n",
       "Dep. Variable:                      market_value   No. Observations:                 5021\n",
       "Model:             SARIMAX(1, 0, 1)x(2, 0, 1, 5)   Log Likelihood              -26712.819\n",
       "Date:                           Sat, 11 Apr 2020   AIC                          53439.637\n",
       "Time:                                   18:06:46   BIC                          53485.287\n",
       "Sample:                               01-07-1994   HQIC                         53455.633\n",
       "                                    - 04-05-2013                                         \n",
       "Covariance Type:                             opg                                         \n",
       "==============================================================================\n",
       "                 coef    std err          z      P>|z|      [0.025      0.975]\n",
       "------------------------------------------------------------------------------\n",
       "spx            2.7026      0.035     76.264      0.000       2.633       2.772\n",
       "ar.L1          0.9998      0.001   1880.773      0.000       0.999       1.001\n",
       "ma.L1         -0.3099      0.010    -32.582      0.000      -0.329      -0.291\n",
       "ar.S.L5        0.9651      0.011     87.146      0.000       0.943       0.987\n",
       "ar.S.L10       0.0344      0.010      3.322      0.001       0.014       0.055\n",
       "ma.S.L5       -0.9984      0.005   -190.360      0.000      -1.009      -0.988\n",
       "sigma2      2442.4865     28.586     85.443      0.000    2386.459    2498.514\n",
       "===================================================================================\n",
       "Ljung-Box (Q):                       95.41   Jarque-Bera (JB):              4213.92\n",
       "Prob(Q):                              0.00   Prob(JB):                         0.00\n",
       "Heteroskedasticity (H):               1.24   Skew:                            -0.52\n",
       "Prob(H) (two-sided):                  0.00   Kurtosis:                         7.37\n",
       "===================================================================================\n",
       "\n",
       "Warnings:\n",
       "[1] Covariance matrix calculated using the outer product of gradients (complex-step).\n",
       "\"\"\""
      ]
     },
     "execution_count": 21,
     "metadata": {},
     "output_type": "execute_result"
    }
   ],
   "source": [
    "#SARIMAX(1,0,1)(2,0,1,5),X=spx\n",
    "model_sarimax = SARIMAX(train.market_value, exog = train.spx, order=(1,0,1), seasonal_order=(2,0,1,5))\n",
    "model_sarimax.fit().summary()"
   ]
  },
  {
   "cell_type": "markdown",
   "metadata": {},
   "source": [
    "## Homework: \n",
    "FIT SARMAX/SARIMAX/SARIMA models with different series (spx, dax, nikkei) and examin/interpret coefficients"
   ]
  },
  {
   "cell_type": "code",
   "execution_count": null,
   "metadata": {},
   "outputs": [],
   "source": []
  }
 ],
 "metadata": {
  "kernelspec": {
   "display_name": "Python 3",
   "language": "python",
   "name": "python3"
  },
  "language_info": {
   "codemirror_mode": {
    "name": "ipython",
    "version": 3
   },
   "file_extension": ".py",
   "mimetype": "text/x-python",
   "name": "python",
   "nbconvert_exporter": "python",
   "pygments_lexer": "ipython3",
   "version": "3.7.6"
  }
 },
 "nbformat": 4,
 "nbformat_minor": 4
}
