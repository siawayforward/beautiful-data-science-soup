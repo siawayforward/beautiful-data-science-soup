{
 "cells": [
  {
   "cell_type": "markdown",
   "metadata": {},
   "source": [
    "## MA Models\n",
    "**Road Map of Lesson**\n",
    "- What are they  \n",
    "- How they are represented/calculated in Python\n",
    "- Modeling\n",
    "- Review coefficients and use LL function to interpret model\n",
    "- Review and interpret residuals\n",
    "- Determine appropriate number of lag components to include to achieve an optimal model\n",
    "- Determine the best representation from the prices to model e.g. prices, returns, normalized values etc"
   ]
  },
  {
   "cell_type": "code",
   "execution_count": 20,
   "metadata": {},
   "outputs": [],
   "source": [
    "#module imports\n",
    "import math\n",
    "import pandas as pd\n",
    "import numpy as np\n",
    "import matplotlib.pyplot as plt\n",
    "import seaborn as sns\n",
    "import statsmodels.tsa.stattools as sts\n",
    "import statsmodels.graphics.tsaplots as sgt\n",
    "from statsmodels.tsa.arima_model import ARMA\n",
    "from statsmodels.tsa.seasonal import seasonal_decompose\n",
    "from scipy.stats.distributions import chi2"
   ]
  },
  {
   "cell_type": "code",
   "execution_count": 47,
   "metadata": {},
   "outputs": [],
   "source": [
    "#data prep / we are working with FTSE\n",
    "raw_data = pd.read_csv('Index2018.csv')\n",
    "data = raw_data.copy()\n",
    "\n",
    "#date as index\n",
    "data.date = pd.to_datetime(data.date, dayfirst = True)\n",
    "data.set_index('date', inplace = True)\n",
    "data = data.asfreq('b')\n",
    "data = data.fillna(method='ffill')\n",
    "\n",
    "#prepare FTSE only for use\n",
    "data['market_value'] = data.ftse\n",
    "del data['spx'], data['dax'], data['ftse'], data['nikkei']\n",
    "\n",
    "#calculate returns since we will be using them at some point\n",
    "data['returns'] = data.market_value.pct_change(1).mul(100)\n",
    "#normalized returns\n",
    "bench = data.returns.iloc[1]\n",
    "data['norm_ret'] = data.returns.div(bench).mul(100)\n",
    "#split for train and test\n",
    "size = int(len(data)*0.8)\n",
    "train = data[:size]\n",
    "test = data[size:]"
   ]
  },
  {
   "cell_type": "code",
   "execution_count": 48,
   "metadata": {},
   "outputs": [],
   "source": [
    "#method for LLR test\n",
    "def LLR_test(mod_1, mod_2, DF=1):\n",
    "    res1 = mod_1.fit()\n",
    "    res2 = mod_2.fit()\n",
    "    res1.summary()\n",
    "    LR = 2*(res2.llf - res1.llf)\n",
    "    print('P-Value for LLR:', chi2.sf(LR, DF).round(3))\n",
    "    print('**Results Summary for Higher Order Model**')\n",
    "    return res2.summary()\n",
    "\n",
    "#method for displaying ACF and PCF\n",
    "def ACF_and_PACF(series, title):\n",
    "    fig, (ax1, ax2) = plt.subplots(ncols = 2, figsize=(20,6))\n",
    "    sgt.plot_acf(series, lags = 40, zero=False, ax=ax1)\n",
    "    sgt.plot_pacf(series, lags = 40, zero=False, method = 'ols', ax=ax2)\n",
    "    ax1.title.set_text('ACF Plot for ' + title)\n",
    "    ax2.title.set_text('PACF Plot for ' + title)\n",
    "    plt.show()"
   ]
  },
  {
   "cell_type": "markdown",
   "metadata": {},
   "source": [
    "**MA Model:** Model of past residuals. Differs from AR models in that AR models past series values as opposed to past series residuals. To determine MA components we rely on the ACF correlogram while to determine AR components, we rely on the PACF correlogram"
   ]
  },
  {
   "cell_type": "code",
   "execution_count": 49,
   "metadata": {},
   "outputs": [
    {
     "data": {
      "image/png": "[encoded data removed]",
      "text/plain": [
       "<Figure size 1440x432 with 2 Axes>"
      ]
     },
     "metadata": {
      "needs_background": "light"
     },
     "output_type": "display_data"
    }
   ],
   "source": [
    "#plot ACF to determine number of lags\n",
    "ACF_and_PACF(train.returns[1:], 'FTSE Returns')"
   ]
  },
  {
   "cell_type": "markdown",
   "metadata": {},
   "source": [
    "**Simple MA model**\n",
    "The correlogram tells us that the first lag is not significant but the next six are so an MA(7) may be a good fit and we should run an MA(8) model and use LLR test to see if the former is indeed the optimal model."
   ]
  },
  {
   "cell_type": "code",
   "execution_count": 50,
   "metadata": {},
   "outputs": [
    {
     "data": {
      "text/html": [
       "<table class=\"simpletable\">\n",
       "<caption>ARMA Model Results</caption>\n",
       "<tr>\n",
       "  <th>Dep. Variable:</th>      <td>returns</td>     <th>  No. Observations:  </th>   <td>5020</td>   \n",
       "</tr>\n",
       "<tr>\n",
       "  <th>Model:</th>            <td>ARMA(0, 1)</td>    <th>  Log Likelihood     </th> <td>-7929.595</td>\n",
       "</tr>\n",
       "<tr>\n",
       "  <th>Method:</th>             <td>css-mle</td>     <th>  S.D. of innovations</th>   <td>1.174</td>  \n",
       "</tr>\n",
       "<tr>\n",
       "  <th>Date:</th>          <td>Wed, 08 Apr 2020</td> <th>  AIC                </th> <td>15865.190</td>\n",
       "</tr>\n",
       "<tr>\n",
       "  <th>Time:</th>              <td>15:46:55</td>     <th>  BIC                </th> <td>15884.754</td>\n",
       "</tr>\n",
       "<tr>\n",
       "  <th>Sample:</th>           <td>01-10-1994</td>    <th>  HQIC               </th> <td>15872.045</td>\n",
       "</tr>\n",
       "<tr>\n",
       "  <th></th>                 <td>- 04-05-2013</td>   <th>                     </th>     <td> </td>    \n",
       "</tr>\n",
       "</table>\n",
       "<table class=\"simpletable\">\n",
       "<tr>\n",
       "        <td></td>           <th>coef</th>     <th>std err</th>      <th>z</th>      <th>P>|z|</th>  <th>[0.025</th>    <th>0.975]</th>  \n",
       "</tr>\n",
       "<tr>\n",
       "  <th>const</th>         <td>    0.0188</td> <td>    0.016</td> <td>    1.162</td> <td> 0.245</td> <td>   -0.013</td> <td>    0.050</td>\n",
       "</tr>\n",
       "<tr>\n",
       "  <th>ma.L1.returns</th> <td>   -0.0257</td> <td>    0.015</td> <td>   -1.720</td> <td> 0.085</td> <td>   -0.055</td> <td>    0.004</td>\n",
       "</tr>\n",
       "</table>\n",
       "<table class=\"simpletable\">\n",
       "<caption>Roots</caption>\n",
       "<tr>\n",
       "    <td></td>   <th>            Real</th>  <th>         Imaginary</th> <th>         Modulus</th>  <th>        Frequency</th>\n",
       "</tr>\n",
       "<tr>\n",
       "  <th>MA.1</th> <td>          38.8547</td> <td>          +0.0000j</td> <td>          38.8547</td> <td>           0.0000</td>\n",
       "</tr>\n",
       "</table>"
      ],
      "text/plain": [
       "<class 'statsmodels.iolib.summary.Summary'>\n",
       "\"\"\"\n",
       "                              ARMA Model Results                              \n",
       "==============================================================================\n",
       "Dep. Variable:                returns   No. Observations:                 5020\n",
       "Model:                     ARMA(0, 1)   Log Likelihood               -7929.595\n",
       "Method:                       css-mle   S.D. of innovations              1.174\n",
       "Date:                Wed, 08 Apr 2020   AIC                          15865.190\n",
       "Time:                        15:46:55   BIC                          15884.754\n",
       "Sample:                    01-10-1994   HQIC                         15872.045\n",
       "                         - 04-05-2013                                         \n",
       "=================================================================================\n",
       "                    coef    std err          z      P>|z|      [0.025      0.975]\n",
       "---------------------------------------------------------------------------------\n",
       "const             0.0188      0.016      1.162      0.245      -0.013       0.050\n",
       "ma.L1.returns    -0.0257      0.015     -1.720      0.085      -0.055       0.004\n",
       "                                    Roots                                    \n",
       "=============================================================================\n",
       "                  Real          Imaginary           Modulus         Frequency\n",
       "-----------------------------------------------------------------------------\n",
       "MA.1           38.8547           +0.0000j           38.8547            0.0000\n",
       "-----------------------------------------------------------------------------\n",
       "\"\"\""
      ]
     },
     "execution_count": 50,
     "metadata": {},
     "output_type": "execute_result"
    }
   ],
   "source": [
    "model_ret_ma1 = ARMA(train.returns[1:], order=(0,1))\n",
    "result_ret_ma1 = model_ret_ma1.fit()\n",
    "result_ret_ma1.summary()"
   ]
  },
  {
   "cell_type": "markdown",
   "metadata": {},
   "source": [
    "### Higher Lag MA Models\n",
    "We attempt to add MA components until the LLR test fails"
   ]
  },
  {
   "cell_type": "code",
   "execution_count": 51,
   "metadata": {},
   "outputs": [
    {
     "name": "stdout",
     "output_type": "stream",
     "text": [
      "P-Value for LLR: 0.0\n",
      "**Results Summary for Higher Order Model**\n"
     ]
    },
    {
     "data": {
      "text/html": [
       "<table class=\"simpletable\">\n",
       "<caption>ARMA Model Results</caption>\n",
       "<tr>\n",
       "  <th>Dep. Variable:</th>      <td>returns</td>     <th>  No. Observations:  </th>   <td>5020</td>   \n",
       "</tr>\n",
       "<tr>\n",
       "  <th>Model:</th>            <td>ARMA(0, 2)</td>    <th>  Log Likelihood     </th> <td>-7922.864</td>\n",
       "</tr>\n",
       "<tr>\n",
       "  <th>Method:</th>             <td>css-mle</td>     <th>  S.D. of innovations</th>   <td>1.173</td>  \n",
       "</tr>\n",
       "<tr>\n",
       "  <th>Date:</th>          <td>Wed, 08 Apr 2020</td> <th>  AIC                </th> <td>15853.728</td>\n",
       "</tr>\n",
       "<tr>\n",
       "  <th>Time:</th>              <td>15:46:55</td>     <th>  BIC                </th> <td>15879.812</td>\n",
       "</tr>\n",
       "<tr>\n",
       "  <th>Sample:</th>           <td>01-10-1994</td>    <th>  HQIC               </th> <td>15862.868</td>\n",
       "</tr>\n",
       "<tr>\n",
       "  <th></th>                 <td>- 04-05-2013</td>   <th>                     </th>     <td> </td>    \n",
       "</tr>\n",
       "</table>\n",
       "<table class=\"simpletable\">\n",
       "<tr>\n",
       "        <td></td>           <th>coef</th>     <th>std err</th>      <th>z</th>      <th>P>|z|</th>  <th>[0.025</th>    <th>0.975]</th>  \n",
       "</tr>\n",
       "<tr>\n",
       "  <th>const</th>         <td>    0.0188</td> <td>    0.015</td> <td>    1.239</td> <td> 0.215</td> <td>   -0.011</td> <td>    0.049</td>\n",
       "</tr>\n",
       "<tr>\n",
       "  <th>ma.L1.returns</th> <td>   -0.0327</td> <td>    0.014</td> <td>   -2.297</td> <td> 0.022</td> <td>   -0.061</td> <td>   -0.005</td>\n",
       "</tr>\n",
       "<tr>\n",
       "  <th>ma.L2.returns</th> <td>   -0.0502</td> <td>    0.014</td> <td>   -3.669</td> <td> 0.000</td> <td>   -0.077</td> <td>   -0.023</td>\n",
       "</tr>\n",
       "</table>\n",
       "<table class=\"simpletable\">\n",
       "<caption>Roots</caption>\n",
       "<tr>\n",
       "    <td></td>   <th>            Real</th>  <th>         Imaginary</th> <th>         Modulus</th>  <th>        Frequency</th>\n",
       "</tr>\n",
       "<tr>\n",
       "  <th>MA.1</th> <td>           4.1499</td> <td>          +0.0000j</td> <td>           4.1499</td> <td>           0.0000</td>\n",
       "</tr>\n",
       "<tr>\n",
       "  <th>MA.2</th> <td>          -4.8004</td> <td>          +0.0000j</td> <td>           4.8004</td> <td>           0.5000</td>\n",
       "</tr>\n",
       "</table>"
      ],
      "text/plain": [
       "<class 'statsmodels.iolib.summary.Summary'>\n",
       "\"\"\"\n",
       "                              ARMA Model Results                              \n",
       "==============================================================================\n",
       "Dep. Variable:                returns   No. Observations:                 5020\n",
       "Model:                     ARMA(0, 2)   Log Likelihood               -7922.864\n",
       "Method:                       css-mle   S.D. of innovations              1.173\n",
       "Date:                Wed, 08 Apr 2020   AIC                          15853.728\n",
       "Time:                        15:46:55   BIC                          15879.812\n",
       "Sample:                    01-10-1994   HQIC                         15862.868\n",
       "                         - 04-05-2013                                         \n",
       "=================================================================================\n",
       "                    coef    std err          z      P>|z|      [0.025      0.975]\n",
       "---------------------------------------------------------------------------------\n",
       "const             0.0188      0.015      1.239      0.215      -0.011       0.049\n",
       "ma.L1.returns    -0.0327      0.014     -2.297      0.022      -0.061      -0.005\n",
       "ma.L2.returns    -0.0502      0.014     -3.669      0.000      -0.077      -0.023\n",
       "                                    Roots                                    \n",
       "=============================================================================\n",
       "                  Real          Imaginary           Modulus         Frequency\n",
       "-----------------------------------------------------------------------------\n",
       "MA.1            4.1499           +0.0000j            4.1499            0.0000\n",
       "MA.2           -4.8004           +0.0000j            4.8004            0.5000\n",
       "-----------------------------------------------------------------------------\n",
       "\"\"\""
      ]
     },
     "execution_count": 51,
     "metadata": {},
     "output_type": "execute_result"
    }
   ],
   "source": [
    "model_ret_ma1 = ARMA(train.returns[1:], order = (0,1))\n",
    "model_ret_ma2 = ARMA(train.returns[1:], order = (0,2))\n",
    "LLR_test(model_ret_ma1, model_ret_ma2)"
   ]
  },
  {
   "cell_type": "code",
   "execution_count": 52,
   "metadata": {},
   "outputs": [
    {
     "name": "stdout",
     "output_type": "stream",
     "text": [
      "P-Value for LLR: 0.0\n",
      "**Results Summary for Higher Order Model**\n"
     ]
    },
    {
     "data": {
      "text/html": [
       "<table class=\"simpletable\">\n",
       "<caption>ARMA Model Results</caption>\n",
       "<tr>\n",
       "  <th>Dep. Variable:</th>      <td>returns</td>     <th>  No. Observations:  </th>   <td>5020</td>   \n",
       "</tr>\n",
       "<tr>\n",
       "  <th>Model:</th>            <td>ARMA(0, 3)</td>    <th>  Log Likelihood     </th> <td>-7904.317</td>\n",
       "</tr>\n",
       "<tr>\n",
       "  <th>Method:</th>             <td>css-mle</td>     <th>  S.D. of innovations</th>   <td>1.168</td>  \n",
       "</tr>\n",
       "<tr>\n",
       "  <th>Date:</th>          <td>Wed, 08 Apr 2020</td> <th>  AIC                </th> <td>15818.634</td>\n",
       "</tr>\n",
       "<tr>\n",
       "  <th>Time:</th>              <td>15:46:57</td>     <th>  BIC                </th> <td>15851.240</td>\n",
       "</tr>\n",
       "<tr>\n",
       "  <th>Sample:</th>           <td>01-10-1994</td>    <th>  HQIC               </th> <td>15830.060</td>\n",
       "</tr>\n",
       "<tr>\n",
       "  <th></th>                 <td>- 04-05-2013</td>   <th>                     </th>     <td> </td>    \n",
       "</tr>\n",
       "</table>\n",
       "<table class=\"simpletable\">\n",
       "<tr>\n",
       "        <td></td>           <th>coef</th>     <th>std err</th>      <th>z</th>      <th>P>|z|</th>  <th>[0.025</th>    <th>0.975]</th>  \n",
       "</tr>\n",
       "<tr>\n",
       "  <th>const</th>         <td>    0.0189</td> <td>    0.014</td> <td>    1.376</td> <td> 0.169</td> <td>   -0.008</td> <td>    0.046</td>\n",
       "</tr>\n",
       "<tr>\n",
       "  <th>ma.L1.returns</th> <td>   -0.0203</td> <td>    0.014</td> <td>   -1.423</td> <td> 0.155</td> <td>   -0.048</td> <td>    0.008</td>\n",
       "</tr>\n",
       "<tr>\n",
       "  <th>ma.L2.returns</th> <td>   -0.0556</td> <td>    0.013</td> <td>   -4.134</td> <td> 0.000</td> <td>   -0.082</td> <td>   -0.029</td>\n",
       "</tr>\n",
       "<tr>\n",
       "  <th>ma.L3.returns</th> <td>   -0.0904</td> <td>    0.015</td> <td>   -6.121</td> <td> 0.000</td> <td>   -0.119</td> <td>   -0.061</td>\n",
       "</tr>\n",
       "</table>\n",
       "<table class=\"simpletable\">\n",
       "<caption>Roots</caption>\n",
       "<tr>\n",
       "    <td></td>   <th>            Real</th>  <th>         Imaginary</th> <th>         Modulus</th>  <th>        Frequency</th>\n",
       "</tr>\n",
       "<tr>\n",
       "  <th>MA.1</th> <td>           2.0105</td> <td>          -0.0000j</td> <td>           2.0105</td> <td>          -0.0000</td>\n",
       "</tr>\n",
       "<tr>\n",
       "  <th>MA.2</th> <td>          -1.3129</td> <td>          -1.9441j</td> <td>           2.3459</td> <td>          -0.3445</td>\n",
       "</tr>\n",
       "<tr>\n",
       "  <th>MA.3</th> <td>          -1.3129</td> <td>          +1.9441j</td> <td>           2.3459</td> <td>           0.3445</td>\n",
       "</tr>\n",
       "</table>"
      ],
      "text/plain": [
       "<class 'statsmodels.iolib.summary.Summary'>\n",
       "\"\"\"\n",
       "                              ARMA Model Results                              \n",
       "==============================================================================\n",
       "Dep. Variable:                returns   No. Observations:                 5020\n",
       "Model:                     ARMA(0, 3)   Log Likelihood               -7904.317\n",
       "Method:                       css-mle   S.D. of innovations              1.168\n",
       "Date:                Wed, 08 Apr 2020   AIC                          15818.634\n",
       "Time:                        15:46:57   BIC                          15851.240\n",
       "Sample:                    01-10-1994   HQIC                         15830.060\n",
       "                         - 04-05-2013                                         \n",
       "=================================================================================\n",
       "                    coef    std err          z      P>|z|      [0.025      0.975]\n",
       "---------------------------------------------------------------------------------\n",
       "const             0.0189      0.014      1.376      0.169      -0.008       0.046\n",
       "ma.L1.returns    -0.0203      0.014     -1.423      0.155      -0.048       0.008\n",
       "ma.L2.returns    -0.0556      0.013     -4.134      0.000      -0.082      -0.029\n",
       "ma.L3.returns    -0.0904      0.015     -6.121      0.000      -0.119      -0.061\n",
       "                                    Roots                                    \n",
       "=============================================================================\n",
       "                  Real          Imaginary           Modulus         Frequency\n",
       "-----------------------------------------------------------------------------\n",
       "MA.1            2.0105           -0.0000j            2.0105           -0.0000\n",
       "MA.2           -1.3129           -1.9441j            2.3459           -0.3445\n",
       "MA.3           -1.3129           +1.9441j            2.3459            0.3445\n",
       "-----------------------------------------------------------------------------\n",
       "\"\"\""
      ]
     },
     "execution_count": 52,
     "metadata": {},
     "output_type": "execute_result"
    }
   ],
   "source": [
    "model_ret_ma2 = ARMA(train.returns[1:], order = (0,2))\n",
    "model_ret_ma3 = ARMA(train.returns[1:], order = (0,3))\n",
    "LLR_test(model_ret_ma2, model_ret_ma3)"
   ]
  },
  {
   "cell_type": "code",
   "execution_count": 53,
   "metadata": {},
   "outputs": [
    {
     "name": "stdout",
     "output_type": "stream",
     "text": [
      "P-Value for LLR: 0.001\n",
      "**Results Summary for Higher Order Model**\n"
     ]
    },
    {
     "data": {
      "text/html": [
       "<table class=\"simpletable\">\n",
       "<caption>ARMA Model Results</caption>\n",
       "<tr>\n",
       "  <th>Dep. Variable:</th>      <td>returns</td>     <th>  No. Observations:  </th>   <td>5020</td>   \n",
       "</tr>\n",
       "<tr>\n",
       "  <th>Model:</th>            <td>ARMA(0, 4)</td>    <th>  Log Likelihood     </th> <td>-7898.773</td>\n",
       "</tr>\n",
       "<tr>\n",
       "  <th>Method:</th>             <td>css-mle</td>     <th>  S.D. of innovations</th>   <td>1.167</td>  \n",
       "</tr>\n",
       "<tr>\n",
       "  <th>Date:</th>          <td>Wed, 08 Apr 2020</td> <th>  AIC                </th> <td>15809.547</td>\n",
       "</tr>\n",
       "<tr>\n",
       "  <th>Time:</th>              <td>15:46:59</td>     <th>  BIC                </th> <td>15848.674</td>\n",
       "</tr>\n",
       "<tr>\n",
       "  <th>Sample:</th>           <td>01-10-1994</td>    <th>  HQIC               </th> <td>15823.257</td>\n",
       "</tr>\n",
       "<tr>\n",
       "  <th></th>                 <td>- 04-05-2013</td>   <th>                     </th>     <td> </td>    \n",
       "</tr>\n",
       "</table>\n",
       "<table class=\"simpletable\">\n",
       "<tr>\n",
       "        <td></td>           <th>coef</th>     <th>std err</th>      <th>z</th>      <th>P>|z|</th>  <th>[0.025</th>    <th>0.975]</th>  \n",
       "</tr>\n",
       "<tr>\n",
       "  <th>const</th>         <td>    0.0189</td> <td>    0.014</td> <td>    1.305</td> <td> 0.192</td> <td>   -0.009</td> <td>    0.047</td>\n",
       "</tr>\n",
       "<tr>\n",
       "  <th>ma.L1.returns</th> <td>   -0.0203</td> <td>    0.014</td> <td>   -1.443</td> <td> 0.149</td> <td>   -0.048</td> <td>    0.007</td>\n",
       "</tr>\n",
       "<tr>\n",
       "  <th>ma.L2.returns</th> <td>   -0.0551</td> <td>    0.014</td> <td>   -3.902</td> <td> 0.000</td> <td>   -0.083</td> <td>   -0.027</td>\n",
       "</tr>\n",
       "<tr>\n",
       "  <th>ma.L3.returns</th> <td>   -0.0922</td> <td>    0.015</td> <td>   -6.306</td> <td> 0.000</td> <td>   -0.121</td> <td>   -0.064</td>\n",
       "</tr>\n",
       "<tr>\n",
       "  <th>ma.L4.returns</th> <td>    0.0454</td> <td>    0.014</td> <td>    3.338</td> <td> 0.001</td> <td>    0.019</td> <td>    0.072</td>\n",
       "</tr>\n",
       "</table>\n",
       "<table class=\"simpletable\">\n",
       "<caption>Roots</caption>\n",
       "<tr>\n",
       "    <td></td>   <th>            Real</th>  <th>         Imaginary</th> <th>         Modulus</th>  <th>        Frequency</th>\n",
       "</tr>\n",
       "<tr>\n",
       "  <th>MA.1</th> <td>          -1.2257</td> <td>          -1.4206j</td> <td>           1.8763</td> <td>          -0.3633</td>\n",
       "</tr>\n",
       "<tr>\n",
       "  <th>MA.2</th> <td>          -1.2257</td> <td>          +1.4206j</td> <td>           1.8763</td> <td>           0.3633</td>\n",
       "</tr>\n",
       "<tr>\n",
       "  <th>MA.3</th> <td>           2.2405</td> <td>          -1.1103j</td> <td>           2.5006</td> <td>          -0.0732</td>\n",
       "</tr>\n",
       "<tr>\n",
       "  <th>MA.4</th> <td>           2.2405</td> <td>          +1.1103j</td> <td>           2.5006</td> <td>           0.0732</td>\n",
       "</tr>\n",
       "</table>"
      ],
      "text/plain": [
       "<class 'statsmodels.iolib.summary.Summary'>\n",
       "\"\"\"\n",
       "                              ARMA Model Results                              \n",
       "==============================================================================\n",
       "Dep. Variable:                returns   No. Observations:                 5020\n",
       "Model:                     ARMA(0, 4)   Log Likelihood               -7898.773\n",
       "Method:                       css-mle   S.D. of innovations              1.167\n",
       "Date:                Wed, 08 Apr 2020   AIC                          15809.547\n",
       "Time:                        15:46:59   BIC                          15848.674\n",
       "Sample:                    01-10-1994   HQIC                         15823.257\n",
       "                         - 04-05-2013                                         \n",
       "=================================================================================\n",
       "                    coef    std err          z      P>|z|      [0.025      0.975]\n",
       "---------------------------------------------------------------------------------\n",
       "const             0.0189      0.014      1.305      0.192      -0.009       0.047\n",
       "ma.L1.returns    -0.0203      0.014     -1.443      0.149      -0.048       0.007\n",
       "ma.L2.returns    -0.0551      0.014     -3.902      0.000      -0.083      -0.027\n",
       "ma.L3.returns    -0.0922      0.015     -6.306      0.000      -0.121      -0.064\n",
       "ma.L4.returns     0.0454      0.014      3.338      0.001       0.019       0.072\n",
       "                                    Roots                                    \n",
       "=============================================================================\n",
       "                  Real          Imaginary           Modulus         Frequency\n",
       "-----------------------------------------------------------------------------\n",
       "MA.1           -1.2257           -1.4206j            1.8763           -0.3633\n",
       "MA.2           -1.2257           +1.4206j            1.8763            0.3633\n",
       "MA.3            2.2405           -1.1103j            2.5006           -0.0732\n",
       "MA.4            2.2405           +1.1103j            2.5006            0.0732\n",
       "-----------------------------------------------------------------------------\n",
       "\"\"\""
      ]
     },
     "execution_count": 53,
     "metadata": {},
     "output_type": "execute_result"
    }
   ],
   "source": [
    "model_ret_ma3 = ARMA(train.returns[1:], order = (0,3))\n",
    "model_ret_ma4 = ARMA(train.returns[1:], order = (0,4))\n",
    "LLR_test(model_ret_ma3, model_ret_ma4)"
   ]
  },
  {
   "cell_type": "code",
   "execution_count": 54,
   "metadata": {},
   "outputs": [
    {
     "name": "stdout",
     "output_type": "stream",
     "text": [
      "P-Value for LLR: 0.001\n",
      "**Results Summary for Higher Order Model**\n"
     ]
    },
    {
     "data": {
      "text/html": [
       "<table class=\"simpletable\">\n",
       "<caption>ARMA Model Results</caption>\n",
       "<tr>\n",
       "  <th>Dep. Variable:</th>      <td>returns</td>     <th>  No. Observations:  </th>   <td>5020</td>   \n",
       "</tr>\n",
       "<tr>\n",
       "  <th>Model:</th>            <td>ARMA(0, 5)</td>    <th>  Log Likelihood     </th> <td>-7892.823</td>\n",
       "</tr>\n",
       "<tr>\n",
       "  <th>Method:</th>             <td>css-mle</td>     <th>  S.D. of innovations</th>   <td>1.166</td>  \n",
       "</tr>\n",
       "<tr>\n",
       "  <th>Date:</th>          <td>Wed, 08 Apr 2020</td> <th>  AIC                </th> <td>15799.645</td>\n",
       "</tr>\n",
       "<tr>\n",
       "  <th>Time:</th>              <td>15:47:04</td>     <th>  BIC                </th> <td>15845.294</td>\n",
       "</tr>\n",
       "<tr>\n",
       "  <th>Sample:</th>           <td>01-10-1994</td>    <th>  HQIC               </th> <td>15815.641</td>\n",
       "</tr>\n",
       "<tr>\n",
       "  <th></th>                 <td>- 04-05-2013</td>   <th>                     </th>     <td> </td>    \n",
       "</tr>\n",
       "</table>\n",
       "<table class=\"simpletable\">\n",
       "<tr>\n",
       "        <td></td>           <th>coef</th>     <th>std err</th>      <th>z</th>      <th>P>|z|</th>  <th>[0.025</th>    <th>0.975]</th>  \n",
       "</tr>\n",
       "<tr>\n",
       "  <th>const</th>         <td>    0.0189</td> <td>    0.014</td> <td>    1.376</td> <td> 0.169</td> <td>   -0.008</td> <td>    0.046</td>\n",
       "</tr>\n",
       "<tr>\n",
       "  <th>ma.L1.returns</th> <td>   -0.0262</td> <td>    0.014</td> <td>   -1.851</td> <td> 0.064</td> <td>   -0.054</td> <td>    0.002</td>\n",
       "</tr>\n",
       "<tr>\n",
       "  <th>ma.L2.returns</th> <td>   -0.0497</td> <td>    0.014</td> <td>   -3.518</td> <td> 0.000</td> <td>   -0.077</td> <td>   -0.022</td>\n",
       "</tr>\n",
       "<tr>\n",
       "  <th>ma.L3.returns</th> <td>   -0.0852</td> <td>    0.015</td> <td>   -5.799</td> <td> 0.000</td> <td>   -0.114</td> <td>   -0.056</td>\n",
       "</tr>\n",
       "<tr>\n",
       "  <th>ma.L4.returns</th> <td>    0.0458</td> <td>    0.014</td> <td>    3.374</td> <td> 0.001</td> <td>    0.019</td> <td>    0.072</td>\n",
       "</tr>\n",
       "<tr>\n",
       "  <th>ma.L5.returns</th> <td>   -0.0500</td> <td>    0.014</td> <td>   -3.454</td> <td> 0.001</td> <td>   -0.078</td> <td>   -0.022</td>\n",
       "</tr>\n",
       "</table>\n",
       "<table class=\"simpletable\">\n",
       "<caption>Roots</caption>\n",
       "<tr>\n",
       "    <td></td>   <th>            Real</th>  <th>         Imaginary</th> <th>         Modulus</th>  <th>        Frequency</th>\n",
       "</tr>\n",
       "<tr>\n",
       "  <th>MA.1</th> <td>          -1.2127</td> <td>          -1.0805j</td> <td>           1.6242</td> <td>          -0.3842</td>\n",
       "</tr>\n",
       "<tr>\n",
       "  <th>MA.2</th> <td>          -1.2127</td> <td>          +1.0805j</td> <td>           1.6242</td> <td>           0.3842</td>\n",
       "</tr>\n",
       "<tr>\n",
       "  <th>MA.3</th> <td>           1.7305</td> <td>          -0.0000j</td> <td>           1.7305</td> <td>          -0.0000</td>\n",
       "</tr>\n",
       "<tr>\n",
       "  <th>MA.4</th> <td>           0.8062</td> <td>          -1.9326j</td> <td>           2.0940</td> <td>          -0.1871</td>\n",
       "</tr>\n",
       "<tr>\n",
       "  <th>MA.5</th> <td>           0.8062</td> <td>          +1.9326j</td> <td>           2.0940</td> <td>           0.1871</td>\n",
       "</tr>\n",
       "</table>"
      ],
      "text/plain": [
       "<class 'statsmodels.iolib.summary.Summary'>\n",
       "\"\"\"\n",
       "                              ARMA Model Results                              \n",
       "==============================================================================\n",
       "Dep. Variable:                returns   No. Observations:                 5020\n",
       "Model:                     ARMA(0, 5)   Log Likelihood               -7892.823\n",
       "Method:                       css-mle   S.D. of innovations              1.166\n",
       "Date:                Wed, 08 Apr 2020   AIC                          15799.645\n",
       "Time:                        15:47:04   BIC                          15845.294\n",
       "Sample:                    01-10-1994   HQIC                         15815.641\n",
       "                         - 04-05-2013                                         \n",
       "=================================================================================\n",
       "                    coef    std err          z      P>|z|      [0.025      0.975]\n",
       "---------------------------------------------------------------------------------\n",
       "const             0.0189      0.014      1.376      0.169      -0.008       0.046\n",
       "ma.L1.returns    -0.0262      0.014     -1.851      0.064      -0.054       0.002\n",
       "ma.L2.returns    -0.0497      0.014     -3.518      0.000      -0.077      -0.022\n",
       "ma.L3.returns    -0.0852      0.015     -5.799      0.000      -0.114      -0.056\n",
       "ma.L4.returns     0.0458      0.014      3.374      0.001       0.019       0.072\n",
       "ma.L5.returns    -0.0500      0.014     -3.454      0.001      -0.078      -0.022\n",
       "                                    Roots                                    \n",
       "=============================================================================\n",
       "                  Real          Imaginary           Modulus         Frequency\n",
       "-----------------------------------------------------------------------------\n",
       "MA.1           -1.2127           -1.0805j            1.6242           -0.3842\n",
       "MA.2           -1.2127           +1.0805j            1.6242            0.3842\n",
       "MA.3            1.7305           -0.0000j            1.7305           -0.0000\n",
       "MA.4            0.8062           -1.9326j            2.0940           -0.1871\n",
       "MA.5            0.8062           +1.9326j            2.0940            0.1871\n",
       "-----------------------------------------------------------------------------\n",
       "\"\"\""
      ]
     },
     "execution_count": 54,
     "metadata": {},
     "output_type": "execute_result"
    }
   ],
   "source": [
    "model_ret_ma4 = ARMA(train.returns[1:], order = (0,4))\n",
    "model_ret_ma5 = ARMA(train.returns[1:], order = (0,5))\n",
    "LLR_test(model_ret_ma4, model_ret_ma5)"
   ]
  },
  {
   "cell_type": "code",
   "execution_count": 55,
   "metadata": {},
   "outputs": [
    {
     "name": "stdout",
     "output_type": "stream",
     "text": [
      "P-Value for LLR: 0.007\n",
      "**Results Summary for Higher Order Model**\n"
     ]
    },
    {
     "data": {
      "text/html": [
       "<table class=\"simpletable\">\n",
       "<caption>ARMA Model Results</caption>\n",
       "<tr>\n",
       "  <th>Dep. Variable:</th>      <td>returns</td>     <th>  No. Observations:  </th>   <td>5020</td>   \n",
       "</tr>\n",
       "<tr>\n",
       "  <th>Model:</th>            <td>ARMA(0, 6)</td>    <th>  Log Likelihood     </th> <td>-7889.221</td>\n",
       "</tr>\n",
       "<tr>\n",
       "  <th>Method:</th>             <td>css-mle</td>     <th>  S.D. of innovations</th>   <td>1.165</td>  \n",
       "</tr>\n",
       "<tr>\n",
       "  <th>Date:</th>          <td>Wed, 08 Apr 2020</td> <th>  AIC                </th> <td>15794.442</td>\n",
       "</tr>\n",
       "<tr>\n",
       "  <th>Time:</th>              <td>15:47:09</td>     <th>  BIC                </th> <td>15846.612</td>\n",
       "</tr>\n",
       "<tr>\n",
       "  <th>Sample:</th>           <td>01-10-1994</td>    <th>  HQIC               </th> <td>15812.723</td>\n",
       "</tr>\n",
       "<tr>\n",
       "  <th></th>                 <td>- 04-05-2013</td>   <th>                     </th>     <td> </td>    \n",
       "</tr>\n",
       "</table>\n",
       "<table class=\"simpletable\">\n",
       "<tr>\n",
       "        <td></td>           <th>coef</th>     <th>std err</th>      <th>z</th>      <th>P>|z|</th>  <th>[0.025</th>    <th>0.975]</th>  \n",
       "</tr>\n",
       "<tr>\n",
       "  <th>const</th>         <td>    0.0189</td> <td>    0.013</td> <td>    1.430</td> <td> 0.153</td> <td>   -0.007</td> <td>    0.045</td>\n",
       "</tr>\n",
       "<tr>\n",
       "  <th>ma.L1.returns</th> <td>   -0.0237</td> <td>    0.014</td> <td>   -1.682</td> <td> 0.093</td> <td>   -0.051</td> <td>    0.004</td>\n",
       "</tr>\n",
       "<tr>\n",
       "  <th>ma.L2.returns</th> <td>   -0.0486</td> <td>    0.014</td> <td>   -3.436</td> <td> 0.001</td> <td>   -0.076</td> <td>   -0.021</td>\n",
       "</tr>\n",
       "<tr>\n",
       "  <th>ma.L3.returns</th> <td>   -0.0827</td> <td>    0.014</td> <td>   -5.846</td> <td> 0.000</td> <td>   -0.110</td> <td>   -0.055</td>\n",
       "</tr>\n",
       "<tr>\n",
       "  <th>ma.L4.returns</th> <td>    0.0466</td> <td>    0.014</td> <td>    3.434</td> <td> 0.001</td> <td>    0.020</td> <td>    0.073</td>\n",
       "</tr>\n",
       "<tr>\n",
       "  <th>ma.L5.returns</th> <td>   -0.0484</td> <td>    0.014</td> <td>   -3.371</td> <td> 0.001</td> <td>   -0.077</td> <td>   -0.020</td>\n",
       "</tr>\n",
       "<tr>\n",
       "  <th>ma.L6.returns</th> <td>   -0.0387</td> <td>    0.014</td> <td>   -2.682</td> <td> 0.007</td> <td>   -0.067</td> <td>   -0.010</td>\n",
       "</tr>\n",
       "</table>\n",
       "<table class=\"simpletable\">\n",
       "<caption>Roots</caption>\n",
       "<tr>\n",
       "    <td></td>   <th>            Real</th>  <th>         Imaginary</th> <th>         Modulus</th>  <th>        Frequency</th>\n",
       "</tr>\n",
       "<tr>\n",
       "  <th>MA.1</th> <td>           1.5011</td> <td>          -0.0000j</td> <td>           1.5011</td> <td>          -0.0000</td>\n",
       "</tr>\n",
       "<tr>\n",
       "  <th>MA.2</th> <td>           0.8248</td> <td>          -1.4775j</td> <td>           1.6921</td> <td>          -0.1690</td>\n",
       "</tr>\n",
       "<tr>\n",
       "  <th>MA.3</th> <td>           0.8248</td> <td>          +1.4775j</td> <td>           1.6921</td> <td>           0.1690</td>\n",
       "</tr>\n",
       "<tr>\n",
       "  <th>MA.4</th> <td>          -1.0066</td> <td>          -1.2260j</td> <td>           1.5863</td> <td>          -0.3594</td>\n",
       "</tr>\n",
       "<tr>\n",
       "  <th>MA.5</th> <td>          -1.0066</td> <td>          +1.2260j</td> <td>           1.5863</td> <td>           0.3594</td>\n",
       "</tr>\n",
       "<tr>\n",
       "  <th>MA.6</th> <td>          -2.3891</td> <td>          -0.0000j</td> <td>           2.3891</td> <td>          -0.5000</td>\n",
       "</tr>\n",
       "</table>"
      ],
      "text/plain": [
       "<class 'statsmodels.iolib.summary.Summary'>\n",
       "\"\"\"\n",
       "                              ARMA Model Results                              \n",
       "==============================================================================\n",
       "Dep. Variable:                returns   No. Observations:                 5020\n",
       "Model:                     ARMA(0, 6)   Log Likelihood               -7889.221\n",
       "Method:                       css-mle   S.D. of innovations              1.165\n",
       "Date:                Wed, 08 Apr 2020   AIC                          15794.442\n",
       "Time:                        15:47:09   BIC                          15846.612\n",
       "Sample:                    01-10-1994   HQIC                         15812.723\n",
       "                         - 04-05-2013                                         \n",
       "=================================================================================\n",
       "                    coef    std err          z      P>|z|      [0.025      0.975]\n",
       "---------------------------------------------------------------------------------\n",
       "const             0.0189      0.013      1.430      0.153      -0.007       0.045\n",
       "ma.L1.returns    -0.0237      0.014     -1.682      0.093      -0.051       0.004\n",
       "ma.L2.returns    -0.0486      0.014     -3.436      0.001      -0.076      -0.021\n",
       "ma.L3.returns    -0.0827      0.014     -5.846      0.000      -0.110      -0.055\n",
       "ma.L4.returns     0.0466      0.014      3.434      0.001       0.020       0.073\n",
       "ma.L5.returns    -0.0484      0.014     -3.371      0.001      -0.077      -0.020\n",
       "ma.L6.returns    -0.0387      0.014     -2.682      0.007      -0.067      -0.010\n",
       "                                    Roots                                    \n",
       "=============================================================================\n",
       "                  Real          Imaginary           Modulus         Frequency\n",
       "-----------------------------------------------------------------------------\n",
       "MA.1            1.5011           -0.0000j            1.5011           -0.0000\n",
       "MA.2            0.8248           -1.4775j            1.6921           -0.1690\n",
       "MA.3            0.8248           +1.4775j            1.6921            0.1690\n",
       "MA.4           -1.0066           -1.2260j            1.5863           -0.3594\n",
       "MA.5           -1.0066           +1.2260j            1.5863            0.3594\n",
       "MA.6           -2.3891           -0.0000j            2.3891           -0.5000\n",
       "-----------------------------------------------------------------------------\n",
       "\"\"\""
      ]
     },
     "execution_count": 55,
     "metadata": {},
     "output_type": "execute_result"
    }
   ],
   "source": [
    "model_ret_ma1 = ARMA(train.returns[1:], order = (0,5))\n",
    "model_ret_ma2 = ARMA(train.returns[1:], order = (0,6))\n",
    "LLR_test(model_ret_ma1, model_ret_ma2)"
   ]
  },
  {
   "cell_type": "code",
   "execution_count": 56,
   "metadata": {},
   "outputs": [
    {
     "name": "stdout",
     "output_type": "stream",
     "text": [
      "P-Value for LLR: 0.554\n",
      "**Results Summary for Higher Order Model**\n"
     ]
    },
    {
     "data": {
      "text/html": [
       "<table class=\"simpletable\">\n",
       "<caption>ARMA Model Results</caption>\n",
       "<tr>\n",
       "  <th>Dep. Variable:</th>      <td>returns</td>     <th>  No. Observations:  </th>   <td>5020</td>   \n",
       "</tr>\n",
       "<tr>\n",
       "  <th>Model:</th>            <td>ARMA(0, 7)</td>    <th>  Log Likelihood     </th> <td>-7889.046</td>\n",
       "</tr>\n",
       "<tr>\n",
       "  <th>Method:</th>             <td>css-mle</td>     <th>  S.D. of innovations</th>   <td>1.165</td>  \n",
       "</tr>\n",
       "<tr>\n",
       "  <th>Date:</th>          <td>Wed, 08 Apr 2020</td> <th>  AIC                </th> <td>15796.091</td>\n",
       "</tr>\n",
       "<tr>\n",
       "  <th>Time:</th>              <td>15:47:21</td>     <th>  BIC                </th> <td>15854.782</td>\n",
       "</tr>\n",
       "<tr>\n",
       "  <th>Sample:</th>           <td>01-10-1994</td>    <th>  HQIC               </th> <td>15816.657</td>\n",
       "</tr>\n",
       "<tr>\n",
       "  <th></th>                 <td>- 04-05-2013</td>   <th>                     </th>     <td> </td>    \n",
       "</tr>\n",
       "</table>\n",
       "<table class=\"simpletable\">\n",
       "<tr>\n",
       "        <td></td>           <th>coef</th>     <th>std err</th>      <th>z</th>      <th>P>|z|</th>  <th>[0.025</th>    <th>0.975]</th>  \n",
       "</tr>\n",
       "<tr>\n",
       "  <th>const</th>         <td>    0.0189</td> <td>    0.013</td> <td>    1.418</td> <td> 0.156</td> <td>   -0.007</td> <td>    0.045</td>\n",
       "</tr>\n",
       "<tr>\n",
       "  <th>ma.L1.returns</th> <td>   -0.0247</td> <td>    0.014</td> <td>   -1.739</td> <td> 0.082</td> <td>   -0.052</td> <td>    0.003</td>\n",
       "</tr>\n",
       "<tr>\n",
       "  <th>ma.L2.returns</th> <td>   -0.0488</td> <td>    0.014</td> <td>   -3.454</td> <td> 0.001</td> <td>   -0.077</td> <td>   -0.021</td>\n",
       "</tr>\n",
       "<tr>\n",
       "  <th>ma.L3.returns</th> <td>   -0.0821</td> <td>    0.014</td> <td>   -5.789</td> <td> 0.000</td> <td>   -0.110</td> <td>   -0.054</td>\n",
       "</tr>\n",
       "<tr>\n",
       "  <th>ma.L4.returns</th> <td>    0.0458</td> <td>    0.014</td> <td>    3.360</td> <td> 0.001</td> <td>    0.019</td> <td>    0.073</td>\n",
       "</tr>\n",
       "<tr>\n",
       "  <th>ma.L5.returns</th> <td>   -0.0486</td> <td>    0.014</td> <td>   -3.381</td> <td> 0.001</td> <td>   -0.077</td> <td>   -0.020</td>\n",
       "</tr>\n",
       "<tr>\n",
       "  <th>ma.L6.returns</th> <td>   -0.0390</td> <td>    0.014</td> <td>   -2.702</td> <td> 0.007</td> <td>   -0.067</td> <td>   -0.011</td>\n",
       "</tr>\n",
       "<tr>\n",
       "  <th>ma.L7.returns</th> <td>    0.0085</td> <td>    0.014</td> <td>    0.592</td> <td> 0.554</td> <td>   -0.020</td> <td>    0.037</td>\n",
       "</tr>\n",
       "</table>\n",
       "<table class=\"simpletable\">\n",
       "<caption>Roots</caption>\n",
       "<tr>\n",
       "    <td></td>   <th>            Real</th>  <th>         Imaginary</th> <th>         Modulus</th>  <th>        Frequency</th>\n",
       "</tr>\n",
       "<tr>\n",
       "  <th>MA.1</th> <td>          -0.9690</td> <td>          -1.1814j</td> <td>           1.5279</td> <td>          -0.3593</td>\n",
       "</tr>\n",
       "<tr>\n",
       "  <th>MA.2</th> <td>          -0.9690</td> <td>          +1.1814j</td> <td>           1.5279</td> <td>           0.3593</td>\n",
       "</tr>\n",
       "<tr>\n",
       "  <th>MA.3</th> <td>          -2.0397</td> <td>          -0.0000j</td> <td>           2.0397</td> <td>          -0.5000</td>\n",
       "</tr>\n",
       "<tr>\n",
       "  <th>MA.4</th> <td>           0.7516</td> <td>          -1.5246j</td> <td>           1.6998</td> <td>          -0.1771</td>\n",
       "</tr>\n",
       "<tr>\n",
       "  <th>MA.5</th> <td>           0.7516</td> <td>          +1.5246j</td> <td>           1.6998</td> <td>           0.1771</td>\n",
       "</tr>\n",
       "<tr>\n",
       "  <th>MA.6</th> <td>           1.5538</td> <td>          -0.0000j</td> <td>           1.5538</td> <td>          -0.0000</td>\n",
       "</tr>\n",
       "<tr>\n",
       "  <th>MA.7</th> <td>           5.5175</td> <td>          -0.0000j</td> <td>           5.5175</td> <td>          -0.0000</td>\n",
       "</tr>\n",
       "</table>"
      ],
      "text/plain": [
       "<class 'statsmodels.iolib.summary.Summary'>\n",
       "\"\"\"\n",
       "                              ARMA Model Results                              \n",
       "==============================================================================\n",
       "Dep. Variable:                returns   No. Observations:                 5020\n",
       "Model:                     ARMA(0, 7)   Log Likelihood               -7889.046\n",
       "Method:                       css-mle   S.D. of innovations              1.165\n",
       "Date:                Wed, 08 Apr 2020   AIC                          15796.091\n",
       "Time:                        15:47:21   BIC                          15854.782\n",
       "Sample:                    01-10-1994   HQIC                         15816.657\n",
       "                         - 04-05-2013                                         \n",
       "=================================================================================\n",
       "                    coef    std err          z      P>|z|      [0.025      0.975]\n",
       "---------------------------------------------------------------------------------\n",
       "const             0.0189      0.013      1.418      0.156      -0.007       0.045\n",
       "ma.L1.returns    -0.0247      0.014     -1.739      0.082      -0.052       0.003\n",
       "ma.L2.returns    -0.0488      0.014     -3.454      0.001      -0.077      -0.021\n",
       "ma.L3.returns    -0.0821      0.014     -5.789      0.000      -0.110      -0.054\n",
       "ma.L4.returns     0.0458      0.014      3.360      0.001       0.019       0.073\n",
       "ma.L5.returns    -0.0486      0.014     -3.381      0.001      -0.077      -0.020\n",
       "ma.L6.returns    -0.0390      0.014     -2.702      0.007      -0.067      -0.011\n",
       "ma.L7.returns     0.0085      0.014      0.592      0.554      -0.020       0.037\n",
       "                                    Roots                                    \n",
       "=============================================================================\n",
       "                  Real          Imaginary           Modulus         Frequency\n",
       "-----------------------------------------------------------------------------\n",
       "MA.1           -0.9690           -1.1814j            1.5279           -0.3593\n",
       "MA.2           -0.9690           +1.1814j            1.5279            0.3593\n",
       "MA.3           -2.0397           -0.0000j            2.0397           -0.5000\n",
       "MA.4            0.7516           -1.5246j            1.6998           -0.1771\n",
       "MA.5            0.7516           +1.5246j            1.6998            0.1771\n",
       "MA.6            1.5538           -0.0000j            1.5538           -0.0000\n",
       "MA.7            5.5175           -0.0000j            5.5175           -0.0000\n",
       "-----------------------------------------------------------------------------\n",
       "\"\"\""
      ]
     },
     "execution_count": 56,
     "metadata": {},
     "output_type": "execute_result"
    }
   ],
   "source": [
    "model_ret_ma1 = ARMA(train.returns[1:], order = (0,6))\n",
    "model_ret_ma2 = ARMA(train.returns[1:], order = (0,7))\n",
    "LLR_test(model_ret_ma1, model_ret_ma2)"
   ]
  },
  {
   "cell_type": "markdown",
   "metadata": {},
   "source": [
    "MA(6) is better than MA(7) after MA(7) fails the LLR test"
   ]
  },
  {
   "cell_type": "code",
   "execution_count": 57,
   "metadata": {},
   "outputs": [
    {
     "name": "stdout",
     "output_type": "stream",
     "text": [
      "P-Value for LLR: 0.027\n",
      "**Results Summary for Higher Order Model**\n"
     ]
    },
    {
     "data": {
      "text/html": [
       "<table class=\"simpletable\">\n",
       "<caption>ARMA Model Results</caption>\n",
       "<tr>\n",
       "  <th>Dep. Variable:</th>      <td>returns</td>     <th>  No. Observations:  </th>   <td>5020</td>   \n",
       "</tr>\n",
       "<tr>\n",
       "  <th>Model:</th>            <td>ARMA(0, 8)</td>    <th>  Log Likelihood     </th> <td>-7885.603</td>\n",
       "</tr>\n",
       "<tr>\n",
       "  <th>Method:</th>             <td>css-mle</td>     <th>  S.D. of innovations</th>   <td>1.164</td>  \n",
       "</tr>\n",
       "<tr>\n",
       "  <th>Date:</th>          <td>Wed, 08 Apr 2020</td> <th>  AIC                </th> <td>15791.205</td>\n",
       "</tr>\n",
       "<tr>\n",
       "  <th>Time:</th>              <td>15:47:33</td>     <th>  BIC                </th> <td>15856.417</td>\n",
       "</tr>\n",
       "<tr>\n",
       "  <th>Sample:</th>           <td>01-10-1994</td>    <th>  HQIC               </th> <td>15814.056</td>\n",
       "</tr>\n",
       "<tr>\n",
       "  <th></th>                 <td>- 04-05-2013</td>   <th>                     </th>     <td> </td>    \n",
       "</tr>\n",
       "</table>\n",
       "<table class=\"simpletable\">\n",
       "<tr>\n",
       "        <td></td>           <th>coef</th>     <th>std err</th>      <th>z</th>      <th>P>|z|</th>  <th>[0.025</th>    <th>0.975]</th>  \n",
       "</tr>\n",
       "<tr>\n",
       "  <th>const</th>         <td>    0.0189</td> <td>    0.014</td> <td>    1.364</td> <td> 0.173</td> <td>   -0.008</td> <td>    0.046</td>\n",
       "</tr>\n",
       "<tr>\n",
       "  <th>ma.L1.returns</th> <td>   -0.0238</td> <td>    0.014</td> <td>   -1.688</td> <td> 0.091</td> <td>   -0.051</td> <td>    0.004</td>\n",
       "</tr>\n",
       "<tr>\n",
       "  <th>ma.L2.returns</th> <td>   -0.0495</td> <td>    0.014</td> <td>   -3.514</td> <td> 0.000</td> <td>   -0.077</td> <td>   -0.022</td>\n",
       "</tr>\n",
       "<tr>\n",
       "  <th>ma.L3.returns</th> <td>   -0.0847</td> <td>    0.014</td> <td>   -5.993</td> <td> 0.000</td> <td>   -0.112</td> <td>   -0.057</td>\n",
       "</tr>\n",
       "<tr>\n",
       "  <th>ma.L4.returns</th> <td>    0.0488</td> <td>    0.014</td> <td>    3.440</td> <td> 0.001</td> <td>    0.021</td> <td>    0.077</td>\n",
       "</tr>\n",
       "<tr>\n",
       "  <th>ma.L5.returns</th> <td>   -0.0518</td> <td>    0.014</td> <td>   -3.634</td> <td> 0.000</td> <td>   -0.080</td> <td>   -0.024</td>\n",
       "</tr>\n",
       "<tr>\n",
       "  <th>ma.L6.returns</th> <td>   -0.0402</td> <td>    0.014</td> <td>   -2.787</td> <td> 0.005</td> <td>   -0.068</td> <td>   -0.012</td>\n",
       "</tr>\n",
       "<tr>\n",
       "  <th>ma.L7.returns</th> <td>    0.0084</td> <td>    0.014</td> <td>    0.587</td> <td> 0.557</td> <td>   -0.020</td> <td>    0.036</td>\n",
       "</tr>\n",
       "<tr>\n",
       "  <th>ma.L8.returns</th> <td>    0.0366</td> <td>    0.014</td> <td>    2.626</td> <td> 0.009</td> <td>    0.009</td> <td>    0.064</td>\n",
       "</tr>\n",
       "</table>\n",
       "<table class=\"simpletable\">\n",
       "<caption>Roots</caption>\n",
       "<tr>\n",
       "    <td></td>   <th>            Real</th>  <th>         Imaginary</th> <th>         Modulus</th>  <th>        Frequency</th>\n",
       "</tr>\n",
       "<tr>\n",
       "  <th>MA.1</th> <td>           1.4716</td> <td>          -0.4282j</td> <td>           1.5326</td> <td>          -0.0451</td>\n",
       "</tr>\n",
       "<tr>\n",
       "  <th>MA.2</th> <td>           1.4716</td> <td>          +0.4282j</td> <td>           1.5326</td> <td>           0.0451</td>\n",
       "</tr>\n",
       "<tr>\n",
       "  <th>MA.3</th> <td>           0.5944</td> <td>          -1.3169j</td> <td>           1.4448</td> <td>          -0.1825</td>\n",
       "</tr>\n",
       "<tr>\n",
       "  <th>MA.4</th> <td>           0.5944</td> <td>          +1.3169j</td> <td>           1.4448</td> <td>           0.1825</td>\n",
       "</tr>\n",
       "<tr>\n",
       "  <th>MA.5</th> <td>          -0.7318</td> <td>          -1.2736j</td> <td>           1.4689</td> <td>          -0.3330</td>\n",
       "</tr>\n",
       "<tr>\n",
       "  <th>MA.6</th> <td>          -0.7318</td> <td>          +1.2736j</td> <td>           1.4689</td> <td>           0.3330</td>\n",
       "</tr>\n",
       "<tr>\n",
       "  <th>MA.7</th> <td>          -1.4485</td> <td>          -0.6983j</td> <td>           1.6081</td> <td>          -0.4285</td>\n",
       "</tr>\n",
       "<tr>\n",
       "  <th>MA.8</th> <td>          -1.4485</td> <td>          +0.6983j</td> <td>           1.6081</td> <td>           0.4285</td>\n",
       "</tr>\n",
       "</table>"
      ],
      "text/plain": [
       "<class 'statsmodels.iolib.summary.Summary'>\n",
       "\"\"\"\n",
       "                              ARMA Model Results                              \n",
       "==============================================================================\n",
       "Dep. Variable:                returns   No. Observations:                 5020\n",
       "Model:                     ARMA(0, 8)   Log Likelihood               -7885.603\n",
       "Method:                       css-mle   S.D. of innovations              1.164\n",
       "Date:                Wed, 08 Apr 2020   AIC                          15791.205\n",
       "Time:                        15:47:33   BIC                          15856.417\n",
       "Sample:                    01-10-1994   HQIC                         15814.056\n",
       "                         - 04-05-2013                                         \n",
       "=================================================================================\n",
       "                    coef    std err          z      P>|z|      [0.025      0.975]\n",
       "---------------------------------------------------------------------------------\n",
       "const             0.0189      0.014      1.364      0.173      -0.008       0.046\n",
       "ma.L1.returns    -0.0238      0.014     -1.688      0.091      -0.051       0.004\n",
       "ma.L2.returns    -0.0495      0.014     -3.514      0.000      -0.077      -0.022\n",
       "ma.L3.returns    -0.0847      0.014     -5.993      0.000      -0.112      -0.057\n",
       "ma.L4.returns     0.0488      0.014      3.440      0.001       0.021       0.077\n",
       "ma.L5.returns    -0.0518      0.014     -3.634      0.000      -0.080      -0.024\n",
       "ma.L6.returns    -0.0402      0.014     -2.787      0.005      -0.068      -0.012\n",
       "ma.L7.returns     0.0084      0.014      0.587      0.557      -0.020       0.036\n",
       "ma.L8.returns     0.0366      0.014      2.626      0.009       0.009       0.064\n",
       "                                    Roots                                    \n",
       "=============================================================================\n",
       "                  Real          Imaginary           Modulus         Frequency\n",
       "-----------------------------------------------------------------------------\n",
       "MA.1            1.4716           -0.4282j            1.5326           -0.0451\n",
       "MA.2            1.4716           +0.4282j            1.5326            0.0451\n",
       "MA.3            0.5944           -1.3169j            1.4448           -0.1825\n",
       "MA.4            0.5944           +1.3169j            1.4448            0.1825\n",
       "MA.5           -0.7318           -1.2736j            1.4689           -0.3330\n",
       "MA.6           -0.7318           +1.2736j            1.4689            0.3330\n",
       "MA.7           -1.4485           -0.6983j            1.6081           -0.4285\n",
       "MA.8           -1.4485           +0.6983j            1.6081            0.4285\n",
       "-----------------------------------------------------------------------------\n",
       "\"\"\""
      ]
     },
     "execution_count": 57,
     "metadata": {},
     "output_type": "execute_result"
    }
   ],
   "source": [
    "#check MA8 against MA6\n",
    "model_ret_ma1 = ARMA(train.returns[1:], order = (0,6))\n",
    "model_ret_ma2 = ARMA(train.returns[1:], order = (0,8))\n",
    "LLR_test(model_ret_ma1, model_ret_ma2, DF=2)"
   ]
  },
  {
   "cell_type": "markdown",
   "metadata": {},
   "source": [
    "Note that the MA(8) is better than the MA(6) because p < 0.05 even though it contains a non-significant coefficient for the 7th element. We could move forward with the MA(8) and examine residuals\n",
    "\n",
    "\n",
    "**Residuals**"
   ]
  },
  {
   "cell_type": "code",
   "execution_count": 58,
   "metadata": {},
   "outputs": [
    {
     "name": "stderr",
     "output_type": "stream",
     "text": [
      "C:\\ProgramData\\Anaconda3\\lib\\site-packages\\ipykernel_launcher.py:3: SettingWithCopyWarning: \n",
      "A value is trying to be set on a copy of a slice from a DataFrame.\n",
      "Try using .loc[row_indexer,col_indexer] = value instead\n",
      "\n",
      "See the caveats in the documentation: https://pandas.pydata.org/pandas-docs/stable/user_guide/indexing.html#returning-a-view-versus-a-copy\n",
      "  This is separate from the ipykernel package so we can avoid doing imports until\n"
     ]
    },
    {
     "data": {
      "text/html": [
       "<div>\n",
       "<style scoped>\n",
       "    .dataframe tbody tr th:only-of-type {\n",
       "        vertical-align: middle;\n",
       "    }\n",
       "\n",
       "    .dataframe tbody tr th {\n",
       "        vertical-align: top;\n",
       "    }\n",
       "\n",
       "    .dataframe thead th {\n",
       "        text-align: right;\n",
       "    }\n",
       "</style>\n",
       "<table border=\"1\" class=\"dataframe\">\n",
       "  <thead>\n",
       "    <tr style=\"text-align: right;\">\n",
       "      <th></th>\n",
       "      <th>market_value</th>\n",
       "      <th>returns</th>\n",
       "      <th>norm_ret</th>\n",
       "      <th>resids_ret_ma8</th>\n",
       "    </tr>\n",
       "    <tr>\n",
       "      <th>date</th>\n",
       "      <th></th>\n",
       "      <th></th>\n",
       "      <th></th>\n",
       "      <th></th>\n",
       "    </tr>\n",
       "  </thead>\n",
       "  <tbody>\n",
       "    <tr>\n",
       "      <th>1994-01-07</th>\n",
       "      <td>3445.98</td>\n",
       "      <td>NaN</td>\n",
       "      <td>NaN</td>\n",
       "      <td>NaN</td>\n",
       "    </tr>\n",
       "    <tr>\n",
       "      <th>1994-01-10</th>\n",
       "      <td>3440.58</td>\n",
       "      <td>-0.156704</td>\n",
       "      <td>100.000000</td>\n",
       "      <td>-0.175611</td>\n",
       "    </tr>\n",
       "    <tr>\n",
       "      <th>1994-01-11</th>\n",
       "      <td>3413.77</td>\n",
       "      <td>-0.779229</td>\n",
       "      <td>497.260711</td>\n",
       "      <td>-0.802111</td>\n",
       "    </tr>\n",
       "    <tr>\n",
       "      <th>1994-01-12</th>\n",
       "      <td>3372.02</td>\n",
       "      <td>-1.222988</td>\n",
       "      <td>780.443046</td>\n",
       "      <td>-1.269464</td>\n",
       "    </tr>\n",
       "    <tr>\n",
       "      <th>1994-01-13</th>\n",
       "      <td>3360.01</td>\n",
       "      <td>-0.356166</td>\n",
       "      <td>227.285567</td>\n",
       "      <td>-0.464780</td>\n",
       "    </tr>\n",
       "  </tbody>\n",
       "</table>\n",
       "</div>"
      ],
      "text/plain": [
       "            market_value   returns    norm_ret  resids_ret_ma8\n",
       "date                                                          \n",
       "1994-01-07       3445.98       NaN         NaN             NaN\n",
       "1994-01-10       3440.58 -0.156704  100.000000       -0.175611\n",
       "1994-01-11       3413.77 -0.779229  497.260711       -0.802111\n",
       "1994-01-12       3372.02 -1.222988  780.443046       -1.269464\n",
       "1994-01-13       3360.01 -0.356166  227.285567       -0.464780"
      ]
     },
     "execution_count": 58,
     "metadata": {},
     "output_type": "execute_result"
    }
   ],
   "source": [
    "model_ret_ma8 = ARMA(train.returns[1:], order=(0,8))\n",
    "results_ret_ma8 = model_ret_ma8.fit()\n",
    "train['resids_ret_ma8'] = results_ret_ma8.resid\n",
    "train.head()"
   ]
  },
  {
   "cell_type": "code",
   "execution_count": 59,
   "metadata": {},
   "outputs": [
    {
     "name": "stdout",
     "output_type": "stream",
     "text": [
      "Mean of residuals - MA model: -0.0 \n",
      "Variance of residuals - MA model: 1.355 \n",
      "Standard deviation of residuals - MA model: 1.164\n"
     ]
    }
   ],
   "source": [
    "#display mean and standard deviation of residuals\n",
    "m = str(round(train.resids_ret_ma8.mean(),3))\n",
    "var = str(round(train.resids_ret_ma8.var(),3))\n",
    "std = str(round(math.sqrt(train.resids_ret_ma8.var()),3))\n",
    "print('Mean of residuals - MA model:', m, \n",
    "      '\\nVariance of residuals - MA model:', var,\n",
    "     '\\nStandard deviation of residuals - MA model:',std)"
   ]
  },
  {
   "cell_type": "code",
   "execution_count": 60,
   "metadata": {},
   "outputs": [
    {
     "data": {
      "image/png": "[encoded data removed]",
      "text/plain": [
       "<Figure size 1440x432 with 1 Axes>"
      ]
     },
     "metadata": {
      "needs_background": "light"
     },
     "output_type": "display_data"
    }
   ],
   "source": [
    "#plot of residuals\n",
    "train.resids_ret_ma8.plot(figsize=(20,6))\n",
    "plt.title('Residuals of Returns')\n",
    "plt.show()"
   ]
  },
  {
   "cell_type": "markdown",
   "metadata": {},
   "source": [
    "To see if the residuals fit a white noise process, we test for stationarity using the ADF test"
   ]
  },
  {
   "cell_type": "code",
   "execution_count": 61,
   "metadata": {},
   "outputs": [
    {
     "data": {
      "text/plain": [
       "(-70.8382186723942,\n",
       " 0.0,\n",
       " 0,\n",
       " 5019,\n",
       " {'1%': -3.4316535759402753,\n",
       "  '5%': -2.8621160400844468,\n",
       "  '10%': -2.567076626752987},\n",
       " 15689.881919867423)"
      ]
     },
     "execution_count": 61,
     "metadata": {},
     "output_type": "execute_result"
    }
   ],
   "source": [
    "sts.adfuller(train.resids_ret_ma8[1:])"
   ]
  },
  {
   "cell_type": "markdown",
   "metadata": {},
   "source": [
    "ADF test says residuals series is stationary. However note that stationarity does not mean/imply white noise (completely random). To check this we can look at the ACF plot of the residuals to see if the coefficients appear randomly and are significant"
   ]
  },
  {
   "cell_type": "code",
   "execution_count": 62,
   "metadata": {},
   "outputs": [
    {
     "data": {
      "image/png": "[encoded data removed]",
      "text/plain": [
       "<Figure size 1440x432 with 2 Axes>"
      ]
     },
     "metadata": {
      "needs_background": "light"
     },
     "output_type": "display_data"
    }
   ],
   "source": [
    "ACF_and_PACF(train.resids_ret_ma8[1:],'Residuals of Returns')"
   ]
  },
  {
   "cell_type": "markdown",
   "metadata": {},
   "source": [
    "Homework:\n",
    "- CHeck MA(6) model to see if it performs better. Could you make a case to use the simpler model instead?"
   ]
  },
  {
   "cell_type": "code",
   "execution_count": null,
   "metadata": {},
   "outputs": [],
   "source": []
  },
  {
   "cell_type": "markdown",
   "metadata": {},
   "source": [
    "### Normalized Returns MA models\n",
    "The ACF should look very similar to that of the returns and therefore the same model outcomes are suggested (MA 6 or MA 8 model) because normalized and unnormalized data will have the same optimal model."
   ]
  },
  {
   "cell_type": "code",
   "execution_count": 64,
   "metadata": {},
   "outputs": [
    {
     "data": {
      "image/png": "[encoded data removed]",
      "text/plain": [
       "<Figure size 1440x432 with 2 Axes>"
      ]
     },
     "metadata": {
      "needs_background": "light"
     },
     "output_type": "display_data"
    }
   ],
   "source": [
    "ACF_and_PACF(train.norm_ret[1:], 'Normalized Returns')"
   ]
  },
  {
   "cell_type": "code",
   "execution_count": 65,
   "metadata": {},
   "outputs": [
    {
     "name": "stderr",
     "output_type": "stream",
     "text": [
      "C:\\ProgramData\\Anaconda3\\lib\\site-packages\\ipykernel_launcher.py:3: SettingWithCopyWarning: \n",
      "A value is trying to be set on a copy of a slice from a DataFrame.\n",
      "Try using .loc[row_indexer,col_indexer] = value instead\n",
      "\n",
      "See the caveats in the documentation: https://pandas.pydata.org/pandas-docs/stable/user_guide/indexing.html#returning-a-view-versus-a-copy\n",
      "  This is separate from the ipykernel package so we can avoid doing imports until\n"
     ]
    },
    {
     "data": {
      "text/html": [
       "<div>\n",
       "<style scoped>\n",
       "    .dataframe tbody tr th:only-of-type {\n",
       "        vertical-align: middle;\n",
       "    }\n",
       "\n",
       "    .dataframe tbody tr th {\n",
       "        vertical-align: top;\n",
       "    }\n",
       "\n",
       "    .dataframe thead th {\n",
       "        text-align: right;\n",
       "    }\n",
       "</style>\n",
       "<table border=\"1\" class=\"dataframe\">\n",
       "  <thead>\n",
       "    <tr style=\"text-align: right;\">\n",
       "      <th></th>\n",
       "      <th>market_value</th>\n",
       "      <th>returns</th>\n",
       "      <th>norm_ret</th>\n",
       "      <th>resids_ret_ma8</th>\n",
       "      <th>resids_norm_ret_ma8</th>\n",
       "    </tr>\n",
       "    <tr>\n",
       "      <th>date</th>\n",
       "      <th></th>\n",
       "      <th></th>\n",
       "      <th></th>\n",
       "      <th></th>\n",
       "      <th></th>\n",
       "    </tr>\n",
       "  </thead>\n",
       "  <tbody>\n",
       "    <tr>\n",
       "      <th>1994-01-07</th>\n",
       "      <td>3445.98</td>\n",
       "      <td>NaN</td>\n",
       "      <td>NaN</td>\n",
       "      <td>NaN</td>\n",
       "      <td>NaN</td>\n",
       "    </tr>\n",
       "    <tr>\n",
       "      <th>1994-01-10</th>\n",
       "      <td>3440.58</td>\n",
       "      <td>-0.156704</td>\n",
       "      <td>100.000000</td>\n",
       "      <td>-0.175611</td>\n",
       "      <td>111.973059</td>\n",
       "    </tr>\n",
       "    <tr>\n",
       "      <th>1994-01-11</th>\n",
       "      <td>3413.77</td>\n",
       "      <td>-0.779229</td>\n",
       "      <td>497.260711</td>\n",
       "      <td>-0.802111</td>\n",
       "      <td>511.768586</td>\n",
       "    </tr>\n",
       "    <tr>\n",
       "      <th>1994-01-12</th>\n",
       "      <td>3372.02</td>\n",
       "      <td>-1.222988</td>\n",
       "      <td>780.443046</td>\n",
       "      <td>-1.269464</td>\n",
       "      <td>810.002551</td>\n",
       "    </tr>\n",
       "    <tr>\n",
       "      <th>1994-01-13</th>\n",
       "      <td>3360.01</td>\n",
       "      <td>-0.356166</td>\n",
       "      <td>227.285567</td>\n",
       "      <td>-0.464780</td>\n",
       "      <td>296.489539</td>\n",
       "    </tr>\n",
       "  </tbody>\n",
       "</table>\n",
       "</div>"
      ],
      "text/plain": [
       "            market_value   returns    norm_ret  resids_ret_ma8  \\\n",
       "date                                                             \n",
       "1994-01-07       3445.98       NaN         NaN             NaN   \n",
       "1994-01-10       3440.58 -0.156704  100.000000       -0.175611   \n",
       "1994-01-11       3413.77 -0.779229  497.260711       -0.802111   \n",
       "1994-01-12       3372.02 -1.222988  780.443046       -1.269464   \n",
       "1994-01-13       3360.01 -0.356166  227.285567       -0.464780   \n",
       "\n",
       "            resids_norm_ret_ma8  \n",
       "date                             \n",
       "1994-01-07                  NaN  \n",
       "1994-01-10           111.973059  \n",
       "1994-01-11           511.768586  \n",
       "1994-01-12           810.002551  \n",
       "1994-01-13           296.489539  "
      ]
     },
     "execution_count": 65,
     "metadata": {},
     "output_type": "execute_result"
    }
   ],
   "source": [
    "model_ret_ma8 = ARMA(train.norm_ret[1:], order=(0,8))\n",
    "results_ret_ma8 = model_ret_ma8.fit()\n",
    "train['resids_norm_ret_ma8'] = results_ret_ma8.resid\n",
    "train.head()"
   ]
  },
  {
   "cell_type": "code",
   "execution_count": 66,
   "metadata": {},
   "outputs": [
    {
     "data": {
      "image/png": "[encoded data removed]",
      "text/plain": [
       "<Figure size 1440x432 with 2 Axes>"
      ]
     },
     "metadata": {
      "needs_background": "light"
     },
     "output_type": "display_data"
    }
   ],
   "source": [
    "### MA(1) model for Prices\n",
    "ACF_and_PACF(train.market_value, 'FTSE Prices')"
   ]
  },
  {
   "cell_type": "markdown",
   "metadata": {},
   "source": [
    "Note: since all values are significant, then this suggests higher order models will always be better than lower order ones. If we extend this n lags, we would have an MA model with infinite lags which is impossible to accomplish. This tells us that MA models, though good at accounting for past season errors, do not do a good job for prices like seen above because it tries to maximize the previous periods errors when estimating current period (i.e. the effect never dies off and is large and permanent). Given this, AR models are good to use because they also account for t-1 error while also modeling the previous period's values. We therefore learn that by themselves, AR and MA models are not good for predictions with non-stationary series. However, even when made stationary, the residuals do not completely resemble white noise. Therefore we opt to combine the two forms to use ARMA models for modeling prices.\n",
    "\n",
    "**In summary**\n",
    "- AR alone: accounts for past values but takes time to account for past errors\n",
    "- MA alone: accounts for past errors but does not have a baseline value from which to model errors\n",
    "- ARMA = accounts for both past values and past errors"
   ]
  },
  {
   "cell_type": "code",
   "execution_count": null,
   "metadata": {},
   "outputs": [],
   "source": []
  },
  {
   "cell_type": "code",
   "execution_count": null,
   "metadata": {},
   "outputs": [],
   "source": []
  }
 ],
 "metadata": {
  "kernelspec": {
   "display_name": "Python 3",
   "language": "python",
   "name": "python3"
  },
  "language_info": {
   "codemirror_mode": {
    "name": "ipython",
    "version": 3
   },
   "file_extension": ".py",
   "mimetype": "text/x-python",
   "name": "python",
   "nbconvert_exporter": "python",
   "pygments_lexer": "ipython3",
   "version": "3.7.6"
  }
 },
 "nbformat": 4,
 "nbformat_minor": 2
}
