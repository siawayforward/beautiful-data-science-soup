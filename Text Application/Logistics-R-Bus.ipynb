{
 "cells": [
  {
   "cell_type": "markdown",
   "metadata": {},
   "source": [
    "# Application Demonstration\n",
    "Importing notebooks"
   ]
  },
  {
   "cell_type": "code",
   "execution_count": 1,
   "metadata": {},
   "outputs": [
    {
     "name": "stdout",
     "output_type": "stream",
     "text": [
      "Importing Jupyter notebook from User_Modules.ipynb\n",
      "Importing Jupyter notebook from DAO_Modules.ipynb\n",
      "Importing Jupyter notebook from User_Modules.ipynb\n",
      "Importing Jupyter notebook from DAO_Modules.ipynb\n"
     ]
    }
   ],
   "source": [
    "!pip install mysqlclient -q\n",
    "!pip install nbimporter -q\n",
    "import nbimporter\n",
    "import User_Modules \n",
    "import DAO_Modules\n",
    "from importlib import reload\n",
    "reload(User_Modules)\n",
    "reload(DAO_Modules)\n",
    "User = User_Modules.User\n",
    "Driver = User_Modules.Driver\n",
    "Owner = User_Modules.Owner\n",
    "Admin = User_Modules.Admin"
   ]
  },
  {
   "cell_type": "markdown",
   "metadata": {},
   "source": [
    "### Defining User Objects"
   ]
  },
  {
   "cell_type": "code",
   "execution_count": 2,
   "metadata": {},
   "outputs": [],
   "source": [
    "#Driver\n",
    "do = Driver(fName=None, lName=None, uName=None, pWord=None, phone=None, bus=None, ID=None)\n",
    "#aseif asei51673\n",
    "do.driver_options()"
   ]
  },
  {
   "cell_type": "code",
   "execution_count": 3,
   "metadata": {},
   "outputs": [],
   "source": [
    "#Owner\n",
    "own = Owner(fName=None, lName=None, uName=None, pWord=None, phone=None, active=None, ID=None)\n",
    "#nlyimo, nlyi22913\n",
    "own.owner_options()"
   ]
  },
  {
   "cell_type": "code",
   "execution_count": null,
   "metadata": {},
   "outputs": [],
   "source": [
    "#Admin :)\n",
    "admin = Admin(adm_name=None, adm_pass=None)\n",
    "#admin 4santeDr.Hu!\n",
    "admin.admin_sign_in()"
   ]
  },
  {
   "cell_type": "code",
   "execution_count": null,
   "metadata": {},
   "outputs": [],
   "source": []
  }
 ],
 "metadata": {
  "kernelspec": {
   "display_name": "Python 3",
   "language": "python",
   "name": "python3"
  },
  "language_info": {
   "codemirror_mode": {
    "name": "ipython",
    "version": 3
   },
   "file_extension": ".py",
   "mimetype": "text/x-python",
   "name": "python",
   "nbconvert_exporter": "python",
   "pygments_lexer": "ipython3",
   "version": "3.7.4"
  }
 },
 "nbformat": 4,
 "nbformat_minor": 2
}
